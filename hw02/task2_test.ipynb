{
 "cells": [
  {
   "cell_type": "code",
   "execution_count": 53,
   "metadata": {
    "collapsed": true
   },
   "outputs": [],
   "source": [
    "# coding=utf-8\n",
    "import numpy as np\n",
    "from sklearn.base import BaseEstimator\n",
    "\n",
    "\n",
    "SVM_PARAMS_DICT = {\n",
    "    'C': 10.,\n",
    "    'random_state': 777,\n",
    "    'iters': 10000,\n",
    "    'batch_size': 100,\n",
    "    'step': 0.015\n",
    "}\n",
    "\n",
    "\n",
    "class MySVM(BaseEstimator):\n",
    "    def __init__(self, C, random_state, iters, batch_size, step):\n",
    "        self.C = C\n",
    "        self.random_state = random_state\n",
    "        self.iters = iters\n",
    "        self.batch_size = batch_size\n",
    "        self.step = step\n",
    "\n",
    "    # будем пользоваться этой функцией для подсчёта <w, x>\n",
    "    def __predict(self, X):\n",
    "        return np.dot(X, self.w) + self.w0\n",
    "\n",
    "    # sklearn нужно, чтобы predict возвращал классы, поэтому оборачиваем наш __predict в это\n",
    "    def predict(self, X):\n",
    "        res = self.__predict(X)\n",
    "        res[res > 0] = 1\n",
    "        res[res < 0] = 0\n",
    "        return res\n",
    "\n",
    "    # производная регуляризатора\n",
    "    def der_reg(self):\n",
    "        return 1. / self.C * self.w\n",
    "\n",
    "    # будем считать стохастический градиент не на одном элементе, а сразу на пачке (чтобы было эффективнее)\n",
    "    def der_loss(self, x, y):\n",
    "        # x.shape == (batch_size, features)\n",
    "        # y.shape == (batch_size,)\n",
    "        # predict(self, x).shape = (batch_size,)\n",
    "\n",
    "        # считаем производную по каждой координате на каждом объекте\n",
    "        # TODO\n",
    "        \n",
    "        M = self.__predict(x) * y.T\n",
    "        derLoss = np.fromiter(map(lambda x: -1.0 if 1 - x > 0 else 0.0, M), dtype = np.float)\n",
    "        \n",
    "        # занулить производные там, где отступ > 1\n",
    "        # TODO\n",
    "        derLoss[M > 1] = 0.0 \n",
    "        \n",
    "        # для масштаба возвращаем средний градиент по пачке\n",
    "        # TODO\n",
    "        return np.mean(derLoss)\n",
    "\n",
    "    def fit(self, X_train, y_train):\n",
    "        # RandomState для воспроизводитмости\n",
    "        random_gen = np.random.RandomState(self.random_state)\n",
    "        \n",
    "        # получаем размерности матрицы\n",
    "        size, dim = X_train.shape\n",
    "        \n",
    "        # случайная начальная инициализация\n",
    "        self.w = random_gen.rand(dim)\n",
    "        self.w0 = random_gen.randn()\n",
    "\n",
    "        for _ in range(self.iters):  \n",
    "            # берём случайный набор элементов\n",
    "            rand_indices = random_gen.choice(size, self.batch_size)\n",
    "            x = X_train[rand_indices]\n",
    "            y = y_train[rand_indices] * 2 - 1 # исходные метки классов это 0/1 а нам надо -1/1\n",
    "\n",
    "            # считаем производные\n",
    "            # TODO\n",
    "            derLoss = self.der_loss(x, y)\n",
    "            # обновляемся по антиградиенту\n",
    "            # TODO\n",
    "            self.w = self.w - np.dot(y, x) * self.step * derLoss\n",
    "            self.w0 = self.w0 - np.dot(np.ones(self.batch_size), y) * self.step * derLoss\n",
    "        # метод fit для sklearn должен возвращать self\n",
    "        return self\n"
   ]
  },
  {
   "cell_type": "code",
   "execution_count": 54,
   "metadata": {
    "collapsed": true
   },
   "outputs": [],
   "source": [
    "from sklearn.model_selection import train_test_split\n",
    "from sklearn import datasets\n",
    "\n",
    "X, y = datasets.make_classification(\n",
    "    n_samples=10000, n_features=20, \n",
    "    n_classes=2, n_informative=20, \n",
    "    n_redundant=0,\n",
    "    random_state=42\n",
    ")"
   ]
  },
  {
   "cell_type": "code",
   "execution_count": 55,
   "metadata": {},
   "outputs": [
    {
     "name": "stdout",
     "output_type": "stream",
     "text": [
      "(10000, 20) (20, 10000)\n"
     ]
    }
   ],
   "source": [
    "X_train, X_test, y_train, y_test = train_test_split(\n",
    "    X, y, \n",
    "    test_size=0.2,\n",
    "    random_state=42\n",
    ")\n",
    "print(X.shape, X.T.shape)"
   ]
  },
  {
   "cell_type": "code",
   "execution_count": 56,
   "metadata": {},
   "outputs": [
    {
     "name": "stdout",
     "output_type": "stream",
     "text": [
      "[ -16.75551728 -145.86669915    1.01278694  134.0408418    13.03754811\n",
      "  138.57317019  112.67250297    4.83455235 -131.21331437 -133.25282164\n",
      "   15.8385524   140.57879247  139.15216324  119.0359876  -246.07559136\n",
      "   10.28989654  131.45699961  141.65137578   10.56196059  138.89525536] -0.18246750524\n"
     ]
    }
   ],
   "source": [
    "model = MySVM(10, 777, 1000, 10, 0.15)\n",
    "model.fit(X_train, y_train)\n",
    "print(model.w)"
   ]
  },
  {
   "cell_type": "code",
   "execution_count": null,
   "metadata": {
    "collapsed": true
   },
   "outputs": [],
   "source": []
  }
 ],
 "metadata": {
  "kernelspec": {
   "display_name": "Python 3",
   "language": "python",
   "name": "python3"
  },
  "language_info": {
   "codemirror_mode": {
    "name": "ipython",
    "version": 3
   },
   "file_extension": ".py",
   "mimetype": "text/x-python",
   "name": "python",
   "nbconvert_exporter": "python",
   "pygments_lexer": "ipython3",
   "version": "3.6.3"
  }
 },
 "nbformat": 4,
 "nbformat_minor": 2
}
