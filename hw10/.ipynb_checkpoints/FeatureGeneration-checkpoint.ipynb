{
 "cells": [
  {
<<<<<<< HEAD
   "cell_type": "code",
   "execution_count": 1,
   "metadata": {},
   "outputs": [
    {
     "name": "stderr",
     "output_type": "stream",
     "text": [
      "C:\\ProgramData\\Anaconda3\\lib\\site-packages\\sklearn\\cross_validation.py:41: DeprecationWarning: This module was deprecated in version 0.18 in favor of the model_selection module into which all the refactored classes and functions are moved. Also note that the interface of the new CV iterators are different from that of this module. This module will be removed in 0.20.\n",
      "  \"This module will be removed in 0.20.\", DeprecationWarning)\n",
      "C:\\ProgramData\\Anaconda3\\lib\\site-packages\\sklearn\\grid_search.py:42: DeprecationWarning: This module was deprecated in version 0.18 in favor of the model_selection module into which all the refactored classes and functions are moved. This module will be removed in 0.20.\n",
      "  DeprecationWarning)\n"
     ]
    }
   ],
   "source": [
    "%matplotlib inline\n",
    "import numpy as np\n",
=======
   "cell_type": "raw",
   "metadata": {},
   "source": [
    "# генерация признаков\n",
    "\n",
    "Основные изменения в коде должны произойти в этом блоке.\n",
    "\n",
    "**Краткое напоминание** :\n",
    "\n",
    "0. Числовые признаки\n",
    "    - для линейных моделей признаки стоит масштабировать\n",
    "1. Категориальные признаки\n",
    "    - для линейных моделей лучше сделать one-hot-encoding\n",
    "    - для деревьев лучше сделать LabelEncoding\n",
    "    - для категориальных признаков высокой размерности (>10) можно сделать кодирование средним значением таргета. Это облегчит работу и для деревьев, и для линейных моделей\n",
    "2. Время и координаты\n",
    "    - оба типа признаков обладают некоторым внутренним порядком (два момента времени можно сравнить, широту/долготу тоже)\n",
    "    - оба типа признаков позволяют посчитать расстояния между объектами"
   ]
  },
  {
   "cell_type": "code",
   "execution_count": 309,
   "metadata": {},
   "outputs": [],
   "source": [
    "%matplotlib inline\n",
    "import numpy as np\n",
    "import math\n",
>>>>>>> 8269e4ca32aee53e1977a0ec0738e462de7d1fa8
    "import pandas as pd\n",
    "import matplotlib.pyplot as plt\n",
    "\n",
    "import seaborn as sns\n",
    "import datetime\n",
    "import re\n",
    "\n",
<<<<<<< HEAD
    "from sklearn.preprocessing import StandardScaler\n",
    "from sklearn.linear_model import LinearRegression, Ridge\n",
    "from sklearn.model_selection import train_test_split, cross_val_score, cross_val_predict, KFold\n",
    "from sklearn.grid_search import GridSearchCV\n",
    "from sklearn.neighbors import KNeighborsRegressor\n",
    "from sklearn.ensemble import RandomForestRegressor, ExtraTreesRegressor"
   ]
  },
  {
   "cell_type": "code",
   "execution_count": null,
   "metadata": {
    "collapsed": true
   },
   "outputs": [],
   "source": []
  },
  {
=======
    "from sklearn.preprocessing import StandardScaler, OneHotEncoder, LabelEncoder\n",
    "from sklearn.linear_model import LinearRegression, Ridge\n",
    "from sklearn.model_selection import train_test_split, cross_val_score, cross_val_predict, KFold, GridSearchCV\n",
    "from sklearn.grid_search import GridSearchCV\n",
    "from sklearn.neighbors import KNeighborsRegressor\n",
    "from sklearn.ensemble import RandomForestRegressor, ExtraTreesRegressor\n",
    "from sklearn.preprocessing import StandardScaler"
   ]
  },
  {
>>>>>>> 8269e4ca32aee53e1977a0ec0738e462de7d1fa8
   "cell_type": "markdown",
   "metadata": {},
   "source": [
    "# Задание\n",
    "\n",
    "С помощью генерации признаков получить rmse меньше 5000 на тестовой части выборки.\n",
    "\n",
    "Постарайтесь получить такой результат сначала с помощью **RandomForestRegressor**, а затем и с помощью **Ridge**.\n",
    "\n",
    "Если с помощью признаков меньше 5000 не получается, можно попробовать улучшить результат с помощью обучения других моделей, подбора параметров и усреднения предсказаний разных моделей.\n",
    "\n",
    "Для генерации признаков вам сможет помочь код из последнего семинара."
   ]
  },
  {
   "cell_type": "markdown",
   "metadata": {},
   "source": [
<<<<<<< HEAD
    "# предобработаем данные"
=======
    "# Выберем тип модели"
>>>>>>> 8269e4ca32aee53e1977a0ec0738e462de7d1fa8
   ]
  },
  {
   "cell_type": "code",
<<<<<<< HEAD
   "execution_count": 2,
   "metadata": {},
   "outputs": [
    {
     "data": {
      "text/html": [
       "<div>\n",
       "<style>\n",
       "    .dataframe thead tr:only-child th {\n",
       "        text-align: right;\n",
       "    }\n",
       "\n",
       "    .dataframe thead th {\n",
       "        text-align: left;\n",
       "    }\n",
       "\n",
       "    .dataframe tbody tr th {\n",
       "        vertical-align: top;\n",
       "    }\n",
       "</style>\n",
       "<table border=\"1\" class=\"dataframe\">\n",
       "  <thead>\n",
       "    <tr style=\"text-align: right;\">\n",
       "      <th></th>\n",
       "      <th>Condition</th>\n",
       "      <th>Condition_Desc</th>\n",
       "      <th>Price</th>\n",
       "      <th>Location</th>\n",
       "      <th>Model_Year</th>\n",
       "      <th>Mileage</th>\n",
       "      <th>Exterior_Color</th>\n",
       "      <th>Make</th>\n",
       "      <th>Warranty</th>\n",
       "      <th>Model</th>\n",
       "      <th>...</th>\n",
       "      <th>Vehicle_Title</th>\n",
       "      <th>OBO</th>\n",
       "      <th>Feedback_Perc</th>\n",
       "      <th>Watch_Count</th>\n",
       "      <th>N_Reviews</th>\n",
       "      <th>Seller_Status</th>\n",
       "      <th>Vehicle_Tile</th>\n",
       "      <th>Auction</th>\n",
       "      <th>Buy_Now</th>\n",
       "      <th>Bid_Count</th>\n",
       "    </tr>\n",
       "  </thead>\n",
       "  <tbody>\n",
       "    <tr>\n",
       "      <th>0</th>\n",
       "      <td>Used</td>\n",
       "      <td>mint!!! very low miles</td>\n",
       "      <td>11412</td>\n",
       "      <td>McHenry, Illinois, United States</td>\n",
       "      <td>2013.0</td>\n",
       "      <td>16,000</td>\n",
       "      <td>Black</td>\n",
       "      <td>Harley-Davidson</td>\n",
       "      <td>Unspecified</td>\n",
       "      <td>Touring</td>\n",
       "      <td>...</td>\n",
       "      <td>NaN</td>\n",
       "      <td>False</td>\n",
       "      <td>8.1</td>\n",
       "      <td>NaN</td>\n",
       "      <td>2427</td>\n",
       "      <td>Private Seller</td>\n",
       "      <td>Clear</td>\n",
       "      <td>True</td>\n",
       "      <td>False</td>\n",
       "      <td>28.0</td>\n",
       "    </tr>\n",
       "    <tr>\n",
       "      <th>1</th>\n",
       "      <td>Used</td>\n",
       "      <td>Perfect condition</td>\n",
       "      <td>17200</td>\n",
       "      <td>Fort Recovery, Ohio, United States</td>\n",
       "      <td>2016.0</td>\n",
       "      <td>60</td>\n",
       "      <td>Black</td>\n",
       "      <td>Harley-Davidson</td>\n",
       "      <td>Vehicle has an existing warranty</td>\n",
       "      <td>Touring</td>\n",
       "      <td>...</td>\n",
       "      <td>NaN</td>\n",
       "      <td>False</td>\n",
       "      <td>100</td>\n",
       "      <td>17</td>\n",
       "      <td>657</td>\n",
       "      <td>Private Seller</td>\n",
       "      <td>Clear</td>\n",
       "      <td>True</td>\n",
       "      <td>True</td>\n",
       "      <td>0.0</td>\n",
       "    </tr>\n",
       "  </tbody>\n",
       "</table>\n",
       "<p>2 rows × 22 columns</p>\n",
       "</div>"
      ],
      "text/plain": [
       "  Condition          Condition_Desc  Price  \\\n",
       "0      Used  mint!!! very low miles  11412   \n",
       "1      Used       Perfect condition  17200   \n",
       "\n",
       "                             Location  Model_Year Mileage Exterior_Color  \\\n",
       "0    McHenry, Illinois, United States      2013.0  16,000          Black   \n",
       "1  Fort Recovery, Ohio, United States      2016.0      60          Black   \n",
       "\n",
       "              Make                          Warranty    Model    ...      \\\n",
       "0  Harley-Davidson                       Unspecified  Touring    ...       \n",
       "1  Harley-Davidson  Vehicle has an existing warranty  Touring    ...       \n",
       "\n",
       "  Vehicle_Title    OBO  Feedback_Perc  Watch_Count N_Reviews   Seller_Status  \\\n",
       "0           NaN  False            8.1          NaN      2427  Private Seller   \n",
       "1           NaN  False            100           17       657  Private Seller   \n",
       "\n",
       "   Vehicle_Tile Auction Buy_Now  Bid_Count  \n",
       "0         Clear    True   False       28.0  \n",
       "1         Clear    True    True        0.0  \n",
       "\n",
       "[2 rows x 22 columns]"
      ]
     },
     "execution_count": 2,
     "metadata": {},
     "output_type": "execute_result"
    }
   ],
   "source": [
    "data = pd.read_csv('MotorcycleData.csv', encoding='cp1252', sep=',', )\n",
    "data.drop('Unnamed: 0', axis=1, inplace=True)\n",
    "\n",
    "f = lambda x: re.sub('[,$]', '', x)\n",
    "data.Price = data.Price.map(f).astype(int)\n",
    "\n",
    "data.head(2)"
=======
   "execution_count": 310,
   "metadata": {
    "collapsed": true
   },
   "outputs": [],
   "source": [
    "linearRegr = False"
   ]
  },
  {
   "cell_type": "markdown",
   "metadata": {},
   "source": [
    "# Предобработаем данные"
   ]
  },
  {
   "cell_type": "markdown",
   "metadata": {},
   "source": [
    "Считываем данные"
   ]
  },
  {
   "cell_type": "code",
   "execution_count": 311,
   "metadata": {
    "collapsed": true,
    "scrolled": true
   },
   "outputs": [],
   "source": [
    "data = pd.read_csv('MotorcycleData.csv', encoding='cp1252', sep=',', )\n",
    "data.drop('Unnamed: 0', axis=1, inplace=True)\n",
    "data.replace([np.inf, -np.inf], np.nan, inplace = True)"
   ]
  },
  {
   "cell_type": "markdown",
   "metadata": {},
   "source": [
    "Форматируем таргет"
   ]
  },
  {
   "cell_type": "code",
   "execution_count": 312,
   "metadata": {
    "collapsed": true
   },
   "outputs": [],
   "source": [
    "f = lambda x: re.sub('[,$]', '', x)\n",
    "data.Price = data.Price.map(f).astype(int)"
>>>>>>> 8269e4ca32aee53e1977a0ec0738e462de7d1fa8
   ]
  },
  {
   "cell_type": "markdown",
   "metadata": {},
   "source": [
<<<<<<< HEAD
    "# разобьем их на трейн и тест\n",
=======
    "Заполняем пропуски NaN самым часто встречающимся значением"
   ]
  },
  {
   "cell_type": "code",
   "execution_count": 313,
   "metadata": {},
   "outputs": [],
   "source": [
    "col_to_fillna_w_max = ['Make', 'Location', 'Model', 'Feedback_Perc', 'Watch_Count', 'Vehicle_Tile', 'Auction', 'Buy_Now', 'Condition', 'OBO']\n",
    "for col in col_to_fillna_w_max:\n",
    "#    print(data[col].value_counts().idxmax())\n",
    "    data[col].fillna(data[col].value_counts().idxmax(), inplace=True)"
   ]
  },
  {
   "cell_type": "code",
   "execution_count": 314,
   "metadata": {
    "collapsed": true
   },
   "outputs": [],
   "source": [
    "col_to_fillna_w_0 = ['Model_Year', 'Mileage', 'N_Reviews', 'Bid_Count']\n",
    "for col in col_to_fillna_w_0:\n",
    "    data[col].fillna('0', inplace=True)"
   ]
  },
  {
   "cell_type": "code",
   "execution_count": 315,
   "metadata": {
    "collapsed": true
   },
   "outputs": [],
   "source": [
    "data.Bid_Count.fillna(-1, inplace=True)"
   ]
  },
  {
   "cell_type": "code",
   "execution_count": 316,
   "metadata": {
    "collapsed": true
   },
   "outputs": [],
   "source": [
    "data.Warranty.fillna('no', inplace=True)"
   ]
  },
  {
   "cell_type": "markdown",
   "metadata": {},
   "source": [
    "# Удаляем неиспользуемые столбцы"
   ]
  },
  {
   "cell_type": "code",
   "execution_count": 317,
   "metadata": {
    "collapsed": true
   },
   "outputs": [],
   "source": [
    "data = data.drop(['Exterior_Color', 'Condition_Desc', 'Sub_Model', 'Vehicle_Title', 'Type', 'Seller_Status'],1)"
   ]
  },
  {
   "cell_type": "markdown",
   "metadata": {},
   "source": [
    "# Унифицируем признаки"
   ]
  },
  {
   "cell_type": "markdown",
   "metadata": {},
   "source": [
    "Убираем лишние символы"
   ]
  },
  {
   "cell_type": "code",
   "execution_count": 318,
   "metadata": {},
   "outputs": [],
   "source": [
    "col_to_clean = ['Make', 'Warranty', 'Model', 'Watch_Count', 'Vehicle_Tile']\n",
    "f = lambda x: re.sub('[^A-Za-z0-9]+', '', x)\n",
    "for col in col_to_clean:\n",
    "    data[col] = data[col].map(f).str.lower()"
   ]
  },
  {
   "cell_type": "code",
   "execution_count": 319,
   "metadata": {},
   "outputs": [],
   "source": [
    "def convert_float(val):\n",
    "    try:\n",
    "        return float(val)\n",
    "    except ValueError:\n",
    "        return np.nan"
   ]
  },
  {
   "cell_type": "code",
   "execution_count": 320,
   "metadata": {},
   "outputs": [],
   "source": [
    "data.Mileage =data.Mileage.str.replace('[^0-9]+', '')\n",
    "data.Mileage = data.Mileage.map(convert_float)\n",
    "data.Mileage.fillna(0, inplace = True)"
   ]
  },
  {
   "cell_type": "code",
   "execution_count": 321,
   "metadata": {
    "scrolled": true
   },
   "outputs": [],
   "source": [
    "data.Feedback_Perc = data.Feedback_Perc.str.replace('>','').astype(float)"
   ]
  },
  {
   "cell_type": "markdown",
   "metadata": {},
   "source": [
    "Make"
   ]
  },
  {
   "cell_type": "code",
   "execution_count": 322,
   "metadata": {
    "collapsed": true
   },
   "outputs": [],
   "source": [
    "data.loc[data.Make.str.contains('harley'), 'Make'] = 'harley-davidson'\n",
    "data.loc[data.Make.str.contains('bmw'), 'Make'] = 'bmw'\n",
    "data.loc[data.Make.str.contains('other'), 'Make'] = 'other'\n",
    "data.loc[data.Make.str.contains('custom'), 'Make'] = 'custom'"
   ]
  },
  {
   "cell_type": "markdown",
   "metadata": {},
   "source": [
    "Location"
   ]
  },
  {
   "cell_type": "code",
   "execution_count": 323,
   "metadata": {
    "collapsed": true
   },
   "outputs": [],
   "source": [
    "f = lambda x: x[str.find(x, ',')+2:]\n",
    "data.Location = data.Location.map(f).astype(str)"
   ]
  },
  {
   "cell_type": "markdown",
   "metadata": {},
   "source": [
    "Warranty"
   ]
  },
  {
   "cell_type": "code",
   "execution_count": 324,
   "metadata": {
    "collapsed": true
   },
   "outputs": [],
   "source": [
    "data.Warranty.fillna('no', inplace=True)\n",
    "data.loc[data.Warranty.str.contains('no'), 'Warranty'] = 'no'\n",
    "data.loc[~data.Warranty.str.contains('no'), 'Warranty'] = 'yes'"
   ]
  },
  {
   "cell_type": "markdown",
   "metadata": {},
   "source": [
    "# Делаем преобразования переменных по принципу: \n",
    "<br> - LabelEncoder() для дерева и get_dummies() для регрессии, если число категорий < 10 </br>\n",
    "<br> - заменяем на среднее значение таргета, если число категорий >= 10 (отдельно для train and test) </br>\n",
    "<br> - нормализуем ветор, если используем регрессию (отдельно для train and test) </br>"
   ]
  },
  {
   "cell_type": "code",
   "execution_count": 325,
   "metadata": {
    "collapsed": true
   },
   "outputs": [],
   "source": [
    "col_to_aver_target = ['Make', 'Location', 'Model']\n",
    "col_to_normalize = ['Model_Year', 'Mileage', 'Feedback_Perc', 'Watch_Count', 'N_Reviews', 'Bid_Count', 'Make', 'Location', 'Model']\n",
    "col_to_transform = ['Condition', 'Warranty', 'OBO', 'Vehicle_Tile', 'Auction', 'Buy_Now']"
   ]
  },
  {
   "cell_type": "code",
   "execution_count": 326,
   "metadata": {
    "collapsed": true
   },
   "outputs": [],
   "source": [
    "if linearRegr:\n",
    "    data = pd.get_dummies(data, prefix=col_to_transform, columns = col_to_transform)"
   ]
  },
  {
   "cell_type": "code",
   "execution_count": 327,
   "metadata": {
    "collapsed": true
   },
   "outputs": [],
   "source": [
    "if not linearRegr:\n",
    "    lbl_enc = LabelEncoder()\n",
    "    for  col in col_to_transform: \n",
    "        data[col] = lbl_enc.fit_transform(data[col])"
   ]
  },
  {
   "cell_type": "code",
   "execution_count": 328,
   "metadata": {
    "collapsed": true
   },
   "outputs": [],
   "source": [
    "if True:\n",
    "    for col in col_to_aver_target:\n",
    "        data[col] = data.groupby(col)['Price'].transform('mean')"
   ]
  },
  {
   "cell_type": "markdown",
   "metadata": {},
   "source": [
    "# Разобьем их на трейн и тест\n",
>>>>>>> 8269e4ca32aee53e1977a0ec0738e462de7d1fa8
    "\n",
    "часть выборки мы сохраним и будем использовать как тестовую выборку"
   ]
  },
  {
   "cell_type": "code",
<<<<<<< HEAD
   "execution_count": 3,
=======
   "execution_count": 329,
>>>>>>> 8269e4ca32aee53e1977a0ec0738e462de7d1fa8
   "metadata": {},
   "outputs": [
    {
     "name": "stdout",
     "output_type": "stream",
     "text": [
      "4995 2498\n"
     ]
    }
   ],
   "source": [
    "target = 'Price'\n",
    "\n",
    "skf = KFold(shuffle=True, random_state=0)\n",
    "for itr, ite in skf.split(data):\n",
    "    break\n",
    "\n",
<<<<<<< HEAD
    "y_train = data.loc[itr, target].values\n",
    "y_test = data.loc[ite, target].values\n",
    "data.loc[ite, target] = np.nan\n",
=======
    "data_train = data.loc[itr]\n",
    "data_test = data.loc[ite]\n",
>>>>>>> 8269e4ca32aee53e1977a0ec0738e462de7d1fa8
    "\n",
    "print(len(itr), len(ite))"
   ]
  },
  {
<<<<<<< HEAD
   "cell_type": "code",
   "execution_count": null,
   "metadata": {
    "collapsed": true
   },
   "outputs": [],
   "source": []
=======
   "cell_type": "markdown",
   "metadata": {},
   "source": [
    "# Заменяем категории на средние по таргету"
   ]
  },
  {
   "cell_type": "code",
   "execution_count": 330,
   "metadata": {
    "scrolled": false
   },
   "outputs": [],
   "source": [
    "if False:\n",
    "    col_to_drop = ['Make', 'Location', 'Model']\n",
    "\n",
    "    df_make = pd.DataFrame(data_train.Make)\n",
    "    df_loc = pd.DataFrame(data_train.Location)\n",
    "    df_model = pd.DataFrame(data_train.Model)\n",
    "\n",
    "    df_make['Make_ave'] = data_train.groupby('Make')['Price'].transform('mean')\n",
    "    df_loc['Location_ave'] = data_train.groupby('Location')['Price'].transform('mean')\n",
    "    df_model['Model_ave'] = data_train.groupby('Model')['Price'].transform('mean')\n",
    "\n",
    "    df_make.drop_duplicates('Make', inplace = True)\n",
    "    df_loc.drop_duplicates('Location', inplace = True)\n",
    "    df_model.drop_duplicates('Model', inplace = True)\n",
    "\n",
    "    data_train = data_train.merge(df_make, how='left', on='Make')\n",
    "    data_train = data_train.merge(df_loc, how='left', on='Location')\n",
    "    data_train = data_train.merge(df_model, how='left', on='Model')\n",
    "    data_test = data_test.merge(df_make, how='left', on='Make')\n",
    "    data_test = data_test.merge(df_loc, how='left', on='Location')\n",
    "    data_test = data_test.merge(df_model, how='left', on='Model')\n",
    "\n",
    "    data_test.fillna(-1, inplace = True)\n",
    "\n",
    "    for col in col_to_drop:\n",
    "        data_train.drop(col, inplace = True, axis = 1)\n",
    "        data_test.drop(col, inplace = True, axis = 1)"
   ]
>>>>>>> 8269e4ca32aee53e1977a0ec0738e462de7d1fa8
  },
  {
   "cell_type": "markdown",
   "metadata": {},
   "source": [
<<<<<<< HEAD
    "# генерация признаков\n",
    "\n",
    "Основные изменения в коде должны произойти в этом блоке.\n",
    "\n",
    "**Краткое напоминание** :\n",
    "\n",
    "0. Числовые признаки\n",
    "    - для линейных моделей признаки стоит масштабировать\n",
    "1. Категориальные признаки\n",
    "    - для линейных моделей лучше сделать one-hot-encoding\n",
    "    - для деревьев лучше сделать LabelEncoding\n",
    "    - для категориальных признаков высокой размерности (>10) можно сделать кодирование средним значением таргета. Это облегчит работу и для деревьев, и для линейных моделей\n",
    "2. Время и координаты\n",
    "    - оба типа признаков обладают некоторым внутренним порядком (два момента времени можно сравнить, широту/долготу тоже)\n",
    "    - оба типа признаков позволяют посчитать расстояния между объектами"
=======
    "# Нормализуем данные для регрессии"
   ]
  },
  {
   "cell_type": "code",
   "execution_count": 331,
   "metadata": {
    "scrolled": true
   },
   "outputs": [],
   "source": [
    "for col in col_to_normalize:\n",
    "    data_train[col] = data_train[col].astype(float)\n",
    "    data_test[col] = data_test[col].astype(float)"
>>>>>>> 8269e4ca32aee53e1977a0ec0738e462de7d1fa8
   ]
  },
  {
   "cell_type": "code",
<<<<<<< HEAD
   "execution_count": 4,
   "metadata": {},
   "outputs": [
    {
     "name": "stdout",
     "output_type": "stream",
     "text": [
      "['Condition', 'Condition_Desc', 'Location', 'Model_Year', 'Mileage', 'Exterior_Color', 'Make', 'Warranty', 'Model', 'Sub_Model', 'Type', 'Vehicle_Title', 'OBO', 'Feedback_Perc', 'Watch_Count', 'N_Reviews', 'Seller_Status', 'Vehicle_Tile', 'Auction', 'Buy_Now', 'Bid_Count']\n"
     ]
    }
   ],
   "source": [
    "xcols = [c for c in data if c != target]\n",
    "print(xcols)"
=======
   "execution_count": 332,
   "metadata": {
    "scrolled": true
   },
   "outputs": [],
   "source": [
    "if linearRegr:\n",
    "    std_scale = StandardScaler().fit(data_train[col_to_normalize].values)\n",
    "    data_train[col_to_normalize] = std_scale.transform(data_train[col_to_normalize].values)\n",
    "    data_test[col_to_normalize] = std_scale.transform(data_test[col_to_normalize].values)"
   ]
  },
  {
   "cell_type": "markdown",
   "metadata": {},
   "source": [
    "# Валидация"
>>>>>>> 8269e4ca32aee53e1977a0ec0738e462de7d1fa8
   ]
  },
  {
   "cell_type": "code",
<<<<<<< HEAD
   "execution_count": 5,
=======
   "execution_count": 333,
>>>>>>> 8269e4ca32aee53e1977a0ec0738e462de7d1fa8
   "metadata": {},
   "outputs": [
    {
     "data": {
      "text/html": [
       "<div>\n",
<<<<<<< HEAD
       "<style scoped>\n",
       "    .dataframe tbody tr th:only-of-type {\n",
       "        vertical-align: middle;\n",
       "    }\n",
       "\n",
       "    .dataframe tbody tr th {\n",
       "        vertical-align: top;\n",
       "    }\n",
       "\n",
       "    .dataframe thead th {\n",
       "        text-align: right;\n",
=======
       "<style>\n",
       "    .dataframe thead tr:only-child th {\n",
       "        text-align: right;\n",
       "    }\n",
       "\n",
       "    .dataframe thead th {\n",
       "        text-align: left;\n",
       "    }\n",
       "\n",
       "    .dataframe tbody tr th {\n",
       "        vertical-align: top;\n",
>>>>>>> 8269e4ca32aee53e1977a0ec0738e462de7d1fa8
       "    }\n",
       "</style>\n",
       "<table border=\"1\" class=\"dataframe\">\n",
       "  <thead>\n",
       "    <tr style=\"text-align: right;\">\n",
       "      <th></th>\n",
<<<<<<< HEAD
       "      <th>Model_Year</th>\n",
       "      <th>Vehicle_Title</th>\n",
       "      <th>N_Reviews</th>\n",
=======
       "      <th>Condition</th>\n",
       "      <th>Price</th>\n",
       "      <th>Location</th>\n",
       "      <th>Model_Year</th>\n",
       "      <th>Mileage</th>\n",
       "      <th>Make</th>\n",
       "      <th>Warranty</th>\n",
       "      <th>Model</th>\n",
       "      <th>OBO</th>\n",
       "      <th>Feedback_Perc</th>\n",
       "      <th>Watch_Count</th>\n",
       "      <th>N_Reviews</th>\n",
       "      <th>Vehicle_Tile</th>\n",
       "      <th>Auction</th>\n",
       "      <th>Buy_Now</th>\n",
>>>>>>> 8269e4ca32aee53e1977a0ec0738e462de7d1fa8
       "      <th>Bid_Count</th>\n",
       "    </tr>\n",
       "  </thead>\n",
       "  <tbody>\n",
       "    <tr>\n",
<<<<<<< HEAD
       "      <th>0</th>\n",
       "      <td>2013.0</td>\n",
       "      <td>0.0</td>\n",
       "      <td>2427</td>\n",
       "      <td>28.0</td>\n",
=======
       "      <th>1</th>\n",
       "      <td>1</td>\n",
       "      <td>17200</td>\n",
       "      <td>8352.959596</td>\n",
       "      <td>2016.0</td>\n",
       "      <td>60.0</td>\n",
       "      <td>12142.177202</td>\n",
       "      <td>1</td>\n",
       "      <td>14354.899306</td>\n",
       "      <td>0</td>\n",
       "      <td>100.0</td>\n",
       "      <td>17.0</td>\n",
       "      <td>657.0</td>\n",
       "      <td>0</td>\n",
       "      <td>1</td>\n",
       "      <td>1</td>\n",
       "      <td>0.0</td>\n",
       "    </tr>\n",
       "    <tr>\n",
       "      <th>4</th>\n",
       "      <td>1</td>\n",
       "      <td>10000</td>\n",
       "      <td>7446.977941</td>\n",
       "      <td>2012.0</td>\n",
       "      <td>17800.0</td>\n",
       "      <td>12142.177202</td>\n",
       "      <td>0</td>\n",
       "      <td>14354.899306</td>\n",
       "      <td>0</td>\n",
       "      <td>100.0</td>\n",
       "      <td>13.0</td>\n",
       "      <td>271.0</td>\n",
       "      <td>0</td>\n",
       "      <td>1</td>\n",
       "      <td>1</td>\n",
       "      <td>0.0</td>\n",
       "    </tr>\n",
       "    <tr>\n",
       "      <th>6</th>\n",
       "      <td>1</td>\n",
       "      <td>24900</td>\n",
       "      <td>9203.406130</td>\n",
       "      <td>2010.0</td>\n",
       "      <td>5548.0</td>\n",
       "      <td>12142.177202</td>\n",
       "      <td>0</td>\n",
       "      <td>14354.899306</td>\n",
       "      <td>0</td>\n",
       "      <td>9.8</td>\n",
       "      <td>1.0</td>\n",
       "      <td>6229.0</td>\n",
       "      <td>0</td>\n",
       "      <td>1</td>\n",
       "      <td>0</td>\n",
       "      <td>1.0</td>\n",
>>>>>>> 8269e4ca32aee53e1977a0ec0738e462de7d1fa8
       "    </tr>\n",
       "  </tbody>\n",
       "</table>\n",
       "</div>"
      ],
      "text/plain": [
<<<<<<< HEAD
       "   Model_Year  Vehicle_Title  N_Reviews  Bid_Count\n",
       "0      2013.0            0.0       2427       28.0"
      ]
     },
     "execution_count": 5,
=======
       "   Condition  Price     Location  Model_Year  Mileage          Make  Warranty  \\\n",
       "1          1  17200  8352.959596      2016.0     60.0  12142.177202         1   \n",
       "4          1  10000  7446.977941      2012.0  17800.0  12142.177202         0   \n",
       "6          1  24900  9203.406130      2010.0   5548.0  12142.177202         0   \n",
       "\n",
       "          Model  OBO  Feedback_Perc  Watch_Count  N_Reviews  Vehicle_Tile  \\\n",
       "1  14354.899306    0          100.0         17.0      657.0             0   \n",
       "4  14354.899306    0          100.0         13.0      271.0             0   \n",
       "6  14354.899306    0            9.8          1.0     6229.0             0   \n",
       "\n",
       "   Auction  Buy_Now  Bid_Count  \n",
       "1        1        1        0.0  \n",
       "4        1        1        0.0  \n",
       "6        1        0        1.0  "
      ]
     },
     "execution_count": 333,
>>>>>>> 8269e4ca32aee53e1977a0ec0738e462de7d1fa8
     "metadata": {},
     "output_type": "execute_result"
    }
   ],
   "source": [
<<<<<<< HEAD
    "X = data[xcols].select_dtypes(['int', 'float'])\n",
    "X = X.fillna(0)\n",
    "X[:1]"
   ]
  },
  {
   "cell_type": "markdown",
   "metadata": {},
   "source": [
    "# валидация"
=======
    "data_test.head(3)"
>>>>>>> 8269e4ca32aee53e1977a0ec0738e462de7d1fa8
   ]
  },
  {
   "cell_type": "code",
<<<<<<< HEAD
   "execution_count": 6,
   "metadata": {
    "collapsed": true
   },
   "outputs": [],
   "source": [
    "X_train = X.loc[itr]\n",
    "X_test  = X.loc[ite]"
=======
   "execution_count": 334,
   "metadata": {
    "scrolled": true
   },
   "outputs": [],
   "source": [
    "y_train = data_train[target]\n",
    "y_test = data_test[target]\n",
    "x_train = data_train.drop(target, axis=1)\n",
    "x_test = data_test.drop(target, axis=1)"
>>>>>>> 8269e4ca32aee53e1977a0ec0738e462de7d1fa8
   ]
  },
  {
   "cell_type": "code",
<<<<<<< HEAD
   "execution_count": 7,
=======
   "execution_count": 335,
>>>>>>> 8269e4ca32aee53e1977a0ec0738e462de7d1fa8
   "metadata": {},
   "outputs": [
    {
     "name": "stdout",
     "output_type": "stream",
     "text": [
<<<<<<< HEAD
      "9072.065548066726\n"
=======
      "5035.79170145\n"
>>>>>>> 8269e4ca32aee53e1977a0ec0738e462de7d1fa8
     ]
    }
   ],
   "source": [
<<<<<<< HEAD
    "model = RandomForestRegressor()\n",
    "# model = Ridge()\n",
    "\n",
    "score_mse = -cross_val_score(model, X_train, y_train, scoring='neg_mean_squared_error')\n",
=======
    "if linearRegr: model = Ridge()\n",
    "else: model = RandomForestRegressor()\n",
    "score_mse = -cross_val_score(model, x_train, y_train, scoring='neg_mean_squared_error')\n",
>>>>>>> 8269e4ca32aee53e1977a0ec0738e462de7d1fa8
    "score_rmse = score_mse ** 0.5\n",
    "print(np.mean(score_rmse))"
   ]
  },
  {
   "cell_type": "markdown",
   "metadata": {},
   "source": [
<<<<<<< HEAD
=======
    "Результаты:\n",
    "<br> RandomForest: 5035.79, 5095.94, 5114.01, 6571.91\n",
    "<br> Ridge: 5770.77, 5821.32, 6463.26"
   ]
  },
  {
   "cell_type": "markdown",
   "metadata": {},
   "source": [
>>>>>>> 8269e4ca32aee53e1977a0ec0738e462de7d1fa8
    "# проверка на тестовых данных\n",
    "rmse на тестовой выборке должно получиться меньше 5000"
   ]
  },
  {
   "cell_type": "code",
<<<<<<< HEAD
   "execution_count": 8,
   "metadata": {
    "scrolled": true
=======
   "execution_count": 336,
   "metadata": {},
   "outputs": [],
   "source": [
    "parameters_forest = {'max_features':['auto'], 'n_estimators':[300], 'max_depth': [15], 'min_samples_leaf': [2]}\n",
    "parameters_ridge = {'alpha': [1.1, 1.2, 1.3], 'fit_intercept':[True], 'solver': ['auto', 'svd', 'cholesky', 'lsqr', 'sparse_cg', 'saga']}\n",
    "if linearRegr: clf = GridSearchCV(model, parameters_ridge)\n",
    "else: clf = GridSearchCV(model, parameters_forest)"
   ]
  },
  {
   "cell_type": "code",
   "execution_count": 337,
   "metadata": {
    "scrolled": false
>>>>>>> 8269e4ca32aee53e1977a0ec0738e462de7d1fa8
   },
   "outputs": [
    {
     "data": {
      "text/plain": [
<<<<<<< HEAD
       "7407.8182220921035"
      ]
     },
     "execution_count": 8,
=======
       "4646.893386229756"
      ]
     },
     "execution_count": 337,
>>>>>>> 8269e4ca32aee53e1977a0ec0738e462de7d1fa8
     "metadata": {},
     "output_type": "execute_result"
    }
   ],
   "source": [
<<<<<<< HEAD
    "model.fit(X_train, y_train)\n",
    "y_pred = model.predict(X_test)\n",
=======
    "clf.fit(x_train, y_train)\n",
    "y_pred = clf.predict(x_test)\n",
>>>>>>> 8269e4ca32aee53e1977a0ec0738e462de7d1fa8
    "\n",
    "def rmse(y_true, y_pred):\n",
    "    return np.mean((y_true - y_pred) ** 2) ** 0.5\n",
    "\n",
    "rmse(y_test, y_pred)"
   ]
  },
  {
   "cell_type": "code",
<<<<<<< HEAD
   "execution_count": null,
   "metadata": {
    "collapsed": true
   },
   "outputs": [],
   "source": [
    "\n"
   ]
=======
   "execution_count": 338,
   "metadata": {},
   "outputs": [
    {
     "data": {
      "text/plain": [
       "{'max_depth': 15,\n",
       " 'max_features': 'auto',\n",
       " 'min_samples_leaf': 2,\n",
       " 'n_estimators': 300}"
      ]
     },
     "execution_count": 338,
     "metadata": {},
     "output_type": "execute_result"
    }
   ],
   "source": [
    "clf.best_params_"
   ]
  },
  {
   "cell_type": "markdown",
   "metadata": {
    "collapsed": true
   },
   "source": [
    "Результаты:\n",
    "<br> RandomForest: 4618.77, 4763.07, 4700.46, 5527.39, 5523.28 </br>\n",
    "<br> Ridge: 5499.90, 5500.31, 5857.87"
   ]
  },
  {
   "cell_type": "code",
   "execution_count": null,
   "metadata": {
    "collapsed": true
   },
   "outputs": [],
   "source": []
>>>>>>> 8269e4ca32aee53e1977a0ec0738e462de7d1fa8
  }
 ],
 "metadata": {
  "kernelspec": {
   "display_name": "Python 3",
   "language": "python",
   "name": "python3"
  },
  "language_info": {
   "codemirror_mode": {
    "name": "ipython",
    "version": 3
   },
   "file_extension": ".py",
   "mimetype": "text/x-python",
   "name": "python",
   "nbconvert_exporter": "python",
   "pygments_lexer": "ipython3",
   "version": "3.6.3"
  }
 },
 "nbformat": 4,
 "nbformat_minor": 2
}
