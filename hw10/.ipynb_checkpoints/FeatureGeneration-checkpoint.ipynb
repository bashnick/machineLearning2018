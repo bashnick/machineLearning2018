{
 "cells": [
  {
   "cell_type": "code",
   "execution_count": 1,
   "metadata": {},
   "outputs": [
    {
     "name": "stderr",
     "output_type": "stream",
     "text": [
      "C:\\ProgramData\\Anaconda3\\lib\\site-packages\\sklearn\\cross_validation.py:41: DeprecationWarning: This module was deprecated in version 0.18 in favor of the model_selection module into which all the refactored classes and functions are moved. Also note that the interface of the new CV iterators are different from that of this module. This module will be removed in 0.20.\n",
      "  \"This module will be removed in 0.20.\", DeprecationWarning)\n",
      "C:\\ProgramData\\Anaconda3\\lib\\site-packages\\sklearn\\grid_search.py:42: DeprecationWarning: This module was deprecated in version 0.18 in favor of the model_selection module into which all the refactored classes and functions are moved. This module will be removed in 0.20.\n",
      "  DeprecationWarning)\n"
     ]
    }
   ],
   "source": [
    "%matplotlib inline\n",
    "import numpy as np\n",
    "import pandas as pd\n",
    "import matplotlib.pyplot as plt\n",
    "\n",
    "import seaborn as sns\n",
    "import datetime\n",
    "import re\n",
    "\n",
    "from sklearn.preprocessing import StandardScaler\n",
    "from sklearn.linear_model import LinearRegression, Ridge\n",
    "from sklearn.model_selection import train_test_split, cross_val_score, cross_val_predict, KFold\n",
    "from sklearn.grid_search import GridSearchCV\n",
    "from sklearn.neighbors import KNeighborsRegressor\n",
    "from sklearn.ensemble import RandomForestRegressor, ExtraTreesRegressor"
   ]
  },
  {
   "cell_type": "code",
   "execution_count": null,
   "metadata": {
    "collapsed": true
   },
   "outputs": [],
   "source": []
  },
  {
   "cell_type": "markdown",
   "metadata": {},
   "source": [
    "# Задание\n",
    "\n",
    "С помощью генерации признаков получить rmse меньше 5000 на тестовой части выборки.\n",
    "\n",
    "Постарайтесь получить такой результат сначала с помощью **RandomForestRegressor**, а затем и с помощью **Ridge**.\n",
    "\n",
    "Если с помощью признаков меньше 5000 не получается, можно попробовать улучшить результат с помощью обучения других моделей, подбора параметров и усреднения предсказаний разных моделей.\n",
    "\n",
    "Для генерации признаков вам сможет помочь код из последнего семинара."
   ]
  },
  {
   "cell_type": "markdown",
   "metadata": {},
   "source": [
    "# предобработаем данные"
   ]
  },
  {
   "cell_type": "code",
   "execution_count": 2,
   "metadata": {},
   "outputs": [
    {
     "data": {
      "text/html": [
       "<div>\n",
       "<style>\n",
       "    .dataframe thead tr:only-child th {\n",
       "        text-align: right;\n",
       "    }\n",
       "\n",
       "    .dataframe thead th {\n",
       "        text-align: left;\n",
       "    }\n",
       "\n",
       "    .dataframe tbody tr th {\n",
       "        vertical-align: top;\n",
       "    }\n",
       "</style>\n",
       "<table border=\"1\" class=\"dataframe\">\n",
       "  <thead>\n",
       "    <tr style=\"text-align: right;\">\n",
       "      <th></th>\n",
       "      <th>Condition</th>\n",
       "      <th>Condition_Desc</th>\n",
       "      <th>Price</th>\n",
       "      <th>Location</th>\n",
       "      <th>Model_Year</th>\n",
       "      <th>Mileage</th>\n",
       "      <th>Exterior_Color</th>\n",
       "      <th>Make</th>\n",
       "      <th>Warranty</th>\n",
       "      <th>Model</th>\n",
       "      <th>...</th>\n",
       "      <th>Vehicle_Title</th>\n",
       "      <th>OBO</th>\n",
       "      <th>Feedback_Perc</th>\n",
       "      <th>Watch_Count</th>\n",
       "      <th>N_Reviews</th>\n",
       "      <th>Seller_Status</th>\n",
       "      <th>Vehicle_Tile</th>\n",
       "      <th>Auction</th>\n",
       "      <th>Buy_Now</th>\n",
       "      <th>Bid_Count</th>\n",
       "    </tr>\n",
       "  </thead>\n",
       "  <tbody>\n",
       "    <tr>\n",
       "      <th>0</th>\n",
       "      <td>Used</td>\n",
       "      <td>mint!!! very low miles</td>\n",
       "      <td>11412</td>\n",
       "      <td>McHenry, Illinois, United States</td>\n",
       "      <td>2013.0</td>\n",
       "      <td>16,000</td>\n",
       "      <td>Black</td>\n",
       "      <td>Harley-Davidson</td>\n",
       "      <td>Unspecified</td>\n",
       "      <td>Touring</td>\n",
       "      <td>...</td>\n",
       "      <td>NaN</td>\n",
       "      <td>False</td>\n",
       "      <td>8.1</td>\n",
       "      <td>NaN</td>\n",
       "      <td>2427</td>\n",
       "      <td>Private Seller</td>\n",
       "      <td>Clear</td>\n",
       "      <td>True</td>\n",
       "      <td>False</td>\n",
       "      <td>28.0</td>\n",
       "    </tr>\n",
       "    <tr>\n",
       "      <th>1</th>\n",
       "      <td>Used</td>\n",
       "      <td>Perfect condition</td>\n",
       "      <td>17200</td>\n",
       "      <td>Fort Recovery, Ohio, United States</td>\n",
       "      <td>2016.0</td>\n",
       "      <td>60</td>\n",
       "      <td>Black</td>\n",
       "      <td>Harley-Davidson</td>\n",
       "      <td>Vehicle has an existing warranty</td>\n",
       "      <td>Touring</td>\n",
       "      <td>...</td>\n",
       "      <td>NaN</td>\n",
       "      <td>False</td>\n",
       "      <td>100</td>\n",
       "      <td>17</td>\n",
       "      <td>657</td>\n",
       "      <td>Private Seller</td>\n",
       "      <td>Clear</td>\n",
       "      <td>True</td>\n",
       "      <td>True</td>\n",
       "      <td>0.0</td>\n",
       "    </tr>\n",
       "  </tbody>\n",
       "</table>\n",
       "<p>2 rows × 22 columns</p>\n",
       "</div>"
      ],
      "text/plain": [
       "  Condition          Condition_Desc  Price  \\\n",
       "0      Used  mint!!! very low miles  11412   \n",
       "1      Used       Perfect condition  17200   \n",
       "\n",
       "                             Location  Model_Year Mileage Exterior_Color  \\\n",
       "0    McHenry, Illinois, United States      2013.0  16,000          Black   \n",
       "1  Fort Recovery, Ohio, United States      2016.0      60          Black   \n",
       "\n",
       "              Make                          Warranty    Model    ...      \\\n",
       "0  Harley-Davidson                       Unspecified  Touring    ...       \n",
       "1  Harley-Davidson  Vehicle has an existing warranty  Touring    ...       \n",
       "\n",
       "  Vehicle_Title    OBO  Feedback_Perc  Watch_Count N_Reviews   Seller_Status  \\\n",
       "0           NaN  False            8.1          NaN      2427  Private Seller   \n",
       "1           NaN  False            100           17       657  Private Seller   \n",
       "\n",
       "   Vehicle_Tile Auction Buy_Now  Bid_Count  \n",
       "0         Clear    True   False       28.0  \n",
       "1         Clear    True    True        0.0  \n",
       "\n",
       "[2 rows x 22 columns]"
      ]
     },
     "execution_count": 2,
     "metadata": {},
     "output_type": "execute_result"
    }
   ],
   "source": [
    "data = pd.read_csv('MotorcycleData.csv', encoding='cp1252', sep=',', )\n",
    "data.drop('Unnamed: 0', axis=1, inplace=True)\n",
    "\n",
    "f = lambda x: re.sub('[,$]', '', x)\n",
    "data.Price = data.Price.map(f).astype(int)\n",
    "\n",
    "data.head(2)"
   ]
  },
  {
   "cell_type": "markdown",
   "metadata": {},
   "source": [
    "# разобьем их на трейн и тест\n",
    "\n",
    "часть выборки мы сохраним и будем использовать как тестовую выборку"
   ]
  },
  {
   "cell_type": "code",
   "execution_count": 3,
   "metadata": {},
   "outputs": [
    {
     "name": "stdout",
     "output_type": "stream",
     "text": [
      "4995 2498\n"
     ]
    }
   ],
   "source": [
    "target = 'Price'\n",
    "\n",
    "skf = KFold(shuffle=True, random_state=0)\n",
    "for itr, ite in skf.split(data):\n",
    "    break\n",
    "\n",
    "y_train = data.loc[itr, target].values\n",
    "y_test = data.loc[ite, target].values\n",
    "data.loc[ite, target] = np.nan\n",
    "\n",
    "print(len(itr), len(ite))"
   ]
  },
  {
   "cell_type": "code",
   "execution_count": null,
   "metadata": {
    "collapsed": true
   },
   "outputs": [],
   "source": []
  },
  {
   "cell_type": "markdown",
   "metadata": {},
   "source": [
    "# генерация признаков\n",
    "\n",
    "Основные изменения в коде должны произойти в этом блоке.\n",
    "\n",
    "**Краткое напоминание** :\n",
    "\n",
    "0. Числовые признаки\n",
    "    - для линейных моделей признаки стоит масштабировать\n",
    "1. Категориальные признаки\n",
    "    - для линейных моделей лучше сделать one-hot-encoding\n",
    "    - для деревьев лучше сделать LabelEncoding\n",
    "    - для категориальных признаков высокой размерности (>10) можно сделать кодирование средним значением таргета. Это облегчит работу и для деревьев, и для линейных моделей\n",
    "2. Время и координаты\n",
    "    - оба типа признаков обладают некоторым внутренним порядком (два момента времени можно сравнить, широту/долготу тоже)\n",
    "    - оба типа признаков позволяют посчитать расстояния между объектами"
   ]
  },
  {
   "cell_type": "code",
   "execution_count": 4,
   "metadata": {},
   "outputs": [
    {
     "name": "stdout",
     "output_type": "stream",
     "text": [
      "['Condition', 'Condition_Desc', 'Location', 'Model_Year', 'Mileage', 'Exterior_Color', 'Make', 'Warranty', 'Model', 'Sub_Model', 'Type', 'Vehicle_Title', 'OBO', 'Feedback_Perc', 'Watch_Count', 'N_Reviews', 'Seller_Status', 'Vehicle_Tile', 'Auction', 'Buy_Now', 'Bid_Count']\n"
     ]
    }
   ],
   "source": [
    "xcols = [c for c in data if c != target]\n",
    "print(xcols)"
   ]
  },
  {
   "cell_type": "code",
   "execution_count": 5,
   "metadata": {},
   "outputs": [
    {
     "data": {
      "text/html": [
       "<div>\n",
       "<style scoped>\n",
       "    .dataframe tbody tr th:only-of-type {\n",
       "        vertical-align: middle;\n",
       "    }\n",
       "\n",
       "    .dataframe tbody tr th {\n",
       "        vertical-align: top;\n",
       "    }\n",
       "\n",
       "    .dataframe thead th {\n",
       "        text-align: right;\n",
       "    }\n",
       "</style>\n",
       "<table border=\"1\" class=\"dataframe\">\n",
       "  <thead>\n",
       "    <tr style=\"text-align: right;\">\n",
       "      <th></th>\n",
       "      <th>Model_Year</th>\n",
       "      <th>Vehicle_Title</th>\n",
       "      <th>N_Reviews</th>\n",
       "      <th>Bid_Count</th>\n",
       "    </tr>\n",
       "  </thead>\n",
       "  <tbody>\n",
       "    <tr>\n",
       "      <th>0</th>\n",
       "      <td>2013.0</td>\n",
       "      <td>0.0</td>\n",
       "      <td>2427</td>\n",
       "      <td>28.0</td>\n",
       "    </tr>\n",
       "  </tbody>\n",
       "</table>\n",
       "</div>"
      ],
      "text/plain": [
       "   Model_Year  Vehicle_Title  N_Reviews  Bid_Count\n",
       "0      2013.0            0.0       2427       28.0"
      ]
     },
     "execution_count": 5,
     "metadata": {},
     "output_type": "execute_result"
    }
   ],
   "source": [
    "X = data[xcols].select_dtypes(['int', 'float'])\n",
    "X = X.fillna(0)\n",
    "X[:1]"
   ]
  },
  {
   "cell_type": "markdown",
   "metadata": {},
   "source": [
    "# валидация"
   ]
  },
  {
   "cell_type": "code",
   "execution_count": 6,
   "metadata": {
    "collapsed": true
   },
   "outputs": [],
   "source": [
    "X_train = X.loc[itr]\n",
    "X_test  = X.loc[ite]"
   ]
  },
  {
   "cell_type": "code",
   "execution_count": 7,
   "metadata": {},
   "outputs": [
    {
     "name": "stdout",
     "output_type": "stream",
     "text": [
      "9072.065548066726\n"
     ]
    }
   ],
   "source": [
    "model = RandomForestRegressor()\n",
    "# model = Ridge()\n",
    "\n",
    "score_mse = -cross_val_score(model, X_train, y_train, scoring='neg_mean_squared_error')\n",
    "score_rmse = score_mse ** 0.5\n",
    "print(np.mean(score_rmse))"
   ]
  },
  {
   "cell_type": "markdown",
   "metadata": {},
   "source": [
    "# проверка на тестовых данных\n",
    "rmse на тестовой выборке должно получиться меньше 5000"
   ]
  },
  {
   "cell_type": "code",
   "execution_count": 8,
   "metadata": {
    "scrolled": true
   },
   "outputs": [
    {
     "data": {
      "text/plain": [
       "7407.8182220921035"
      ]
     },
     "execution_count": 8,
     "metadata": {},
     "output_type": "execute_result"
    }
   ],
   "source": [
    "model.fit(X_train, y_train)\n",
    "y_pred = model.predict(X_test)\n",
    "\n",
    "def rmse(y_true, y_pred):\n",
    "    return np.mean((y_true - y_pred) ** 2) ** 0.5\n",
    "\n",
    "rmse(y_test, y_pred)"
   ]
  },
  {
   "cell_type": "code",
   "execution_count": null,
   "metadata": {
    "collapsed": true
   },
   "outputs": [],
   "source": [
    "\n"
   ]
  }
 ],
 "metadata": {
  "kernelspec": {
   "display_name": "Python 3",
   "language": "python",
   "name": "python3"
  },
  "language_info": {
   "codemirror_mode": {
    "name": "ipython",
    "version": 3
   },
   "file_extension": ".py",
   "mimetype": "text/x-python",
   "name": "python",
   "nbconvert_exporter": "python",
   "pygments_lexer": "ipython3",
   "version": "3.6.3"
  }
 },
 "nbformat": 4,
 "nbformat_minor": 2
}
