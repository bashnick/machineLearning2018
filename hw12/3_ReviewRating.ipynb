{
 "cells": [
  {
   "cell_type": "code",
   "execution_count": 1,
   "metadata": {
    "collapsed": true
   },
   "outputs": [],
   "source": [
    "import re\n",
    "import nltk\n",
    "import numpy as np\n",
    "import pandas as pd\n",
    "import pickle\n",
    "from nltk.stem.snowball import SnowballStemmer\n",
    "from nltk.corpus import stopwords\n",
    "from sklearn.feature_extraction.text import CountVectorizer, TfidfVectorizer\n",
    "from sklearn.linear_model import LogisticRegression\n",
    "from sklearn.model_selection import cross_val_score, GridSearchCV"
   ]
  },
  {
   "cell_type": "code",
   "execution_count": 2,
   "metadata": {
    "collapsed": true
   },
   "outputs": [],
   "source": [
    "fileLocation = \"data.csv\"\n",
    "target = 'rating'\n",
    "col_to_transform = ['title', 'text']"
   ]
  },
  {
   "cell_type": "code",
   "execution_count": 3,
   "metadata": {
    "collapsed": true
   },
   "outputs": [],
   "source": [
    "data = pd.read_csv(fileLocation, encoding='cp1251', sep=',', )\n",
    "stemmer = SnowballStemmer(\"russian\")"
   ]
  },
  {
   "cell_type": "markdown",
   "metadata": {},
   "source": [
    "# убираем неиспользуемые колонки"
   ]
  },
  {
   "cell_type": "code",
   "execution_count": 4,
   "metadata": {
    "collapsed": true,
    "scrolled": true
   },
   "outputs": [],
   "source": [
    "data.drop(['Unnamed: 0', 'date', 'bank'], axis=1, inplace=True)\n",
    "data.dropna(axis=0, inplace=True)"
   ]
  },
  {
   "cell_type": "markdown",
   "metadata": {},
   "source": [
    "# унифицируем данные"
   ]
  },
  {
   "cell_type": "code",
   "execution_count": 5,
   "metadata": {
    "collapsed": true
   },
   "outputs": [],
   "source": [
    "f = lambda x: re.sub(\"[,.!:(){}/\\-_']+\", ' ', x)\n",
    "stem_wrds = lambda x: [stemmer.stem(s) for s in x if x not in stopwords.words('russian')]\n",
    "binarize_target = lambda x: 1 if x/5.0 > 0.5 else 0 "
   ]
  },
  {
   "cell_type": "code",
   "execution_count": 6,
   "metadata": {
    "collapsed": true
   },
   "outputs": [],
   "source": [
    "for col in col_to_transform:\n",
    "    data[col] = data[col].map(f).str.lower()\n",
    "    data[col] = data[col].str[0:250]\n",
    "#    data[col] = data[col].str.split()\n",
    "#    data[col] = data[col].map(stem_wrds)"
   ]
  },
  {
   "cell_type": "code",
   "execution_count": 7,
   "metadata": {
    "collapsed": true
   },
   "outputs": [],
   "source": [
    "data[target] = data[target].map(binarize_target)"
   ]
  },
  {
   "cell_type": "markdown",
   "metadata": {},
   "source": [
    "объединим заколовок и сам текст отзыва"
   ]
  },
  {
   "cell_type": "code",
   "execution_count": 8,
   "metadata": {
    "collapsed": true
   },
   "outputs": [],
   "source": [
    "data['all_text'] = data.title + data.text"
   ]
  },
  {
   "cell_type": "code",
   "execution_count": 9,
   "metadata": {
    "collapsed": true
   },
   "outputs": [],
   "source": [
    "data.drop(col_to_transform, axis = 1, inplace = True)"
   ]
  },
  {
   "cell_type": "markdown",
   "metadata": {},
   "source": [
    "# построим bag of words"
   ]
  },
  {
   "cell_type": "code",
   "execution_count": 10,
   "metadata": {
    "collapsed": true
   },
   "outputs": [],
   "source": [
    "vectorizer = CountVectorizer(stop_words = stopwords.words('russian'))\n",
    "X = vectorizer.fit(data.all_text)\n",
    "X = vectorizer.transform()"
   ]
  },
  {
   "cell_type": "code",
   "execution_count": 11,
   "metadata": {},
   "outputs": [
    {
     "data": {
      "text/plain": [
       "array(['вкладе', 'договора', 'заключении', 'указывала', 'который',\n",
       "       'телефон', 'сотовый', 'звонок', 'сделан', 'времени', 'челябинского',\n",
       "       'местного', 'телефона', 'услуг', 'своих', 'навязывания', 'данные',\n",
       "       'личные', 'используют', 'вклада', 'окончания'],\n",
       "      dtype='<U31')"
      ]
     },
     "execution_count": 11,
     "metadata": {},
     "output_type": "execute_result"
    }
   ],
   "source": [
    "feature_names = np.array(vectorizer.get_feature_names())\n",
    "feature_names[X[0].nonzero()[1]]"
   ]
  },
  {
   "cell_type": "markdown",
   "metadata": {},
   "source": [
    "# построим линейный классификатор"
   ]
  },
  {
   "cell_type": "code",
   "execution_count": 16,
   "metadata": {
    "collapsed": true
   },
   "outputs": [],
   "source": [
    "#params = {'penalty': ['l1', 'l2'], 'C': [5, 10, 100, 200, 500, 1000, 10000], 'solver': ['lbfgs', 'liblinear', 'saga']}  \n",
    "model = LogisticRegression(C=100)"
   ]
  },
  {
   "cell_type": "code",
   "execution_count": 17,
   "metadata": {},
   "outputs": [
    {
     "name": "stdout",
     "output_type": "stream",
     "text": [
      "0.873353820991\n"
     ]
    }
   ],
   "source": [
    "#clf = GridSearchCV(model, params, error_score=0.0)\n",
    "model.fit(X, data[target])\n",
    "res = cross_val_score(model, X, data[target], scoring=\"accuracy\", cv=5)\n",
    "print (res.mean())"
   ]
  },
  {
   "cell_type": "markdown",
   "metadata": {},
   "source": [
    "# сохраним модель в pickle"
   ]
  },
  {
   "cell_type": "code",
   "execution_count": 44,
   "metadata": {
    "collapsed": true
   },
   "outputs": [],
   "source": [
    "filename_1 = 'model.sav'\n",
    "filename_2 = 'vectorizer.sav'"
   ]
  },
  {
   "cell_type": "code",
   "execution_count": 45,
   "metadata": {
    "collapsed": true
   },
   "outputs": [],
   "source": [
    "pickle.dump(model, open(filename_1, 'wb'))\n",
    "pickle.dump(vectorizer, open(filename_2, 'wb'))"
   ]
  },
  {
   "cell_type": "markdown",
   "metadata": {},
   "source": [
    "# проверка на тестовых данных"
   ]
  },
  {
   "cell_type": "code",
   "execution_count": null,
   "metadata": {
    "collapsed": true
   },
   "outputs": [],
   "source": [
    "test_data = 'отличный банк'"
   ]
  },
  {
   "cell_type": "code",
   "execution_count": 51,
   "metadata": {},
   "outputs": [
    {
     "name": "stdout",
     "output_type": "stream",
     "text": [
      "[1]\n"
     ]
    }
   ],
   "source": [
    "model = pickle.load(open(filename_1, 'rb'))\n",
    "vectorizer = pickle.load(open(filename_2, 'rb'))\n",
    "result = model.predict(vectorizer.transform([test_data]))\n",
    "print (result)"
   ]
  },
  {
   "cell_type": "code",
   "execution_count": 55,
   "metadata": {
    "scrolled": true
   },
   "outputs": [
    {
     "data": {
      "text/html": [
       "<div>\n",
       "<style>\n",
       "    .dataframe thead tr:only-child th {\n",
       "        text-align: right;\n",
       "    }\n",
       "\n",
       "    .dataframe thead th {\n",
       "        text-align: left;\n",
       "    }\n",
       "\n",
       "    .dataframe tbody tr th {\n",
       "        vertical-align: top;\n",
       "    }\n",
       "</style>\n",
       "<table border=\"1\" class=\"dataframe\">\n",
       "  <thead>\n",
       "    <tr style=\"text-align: right;\">\n",
       "      <th></th>\n",
       "      <th>rating</th>\n",
       "      <th>all_text</th>\n",
       "    </tr>\n",
       "  </thead>\n",
       "  <tbody>\n",
       "    <tr>\n",
       "      <th>0</th>\n",
       "      <td>0</td>\n",
       "      <td>после окончания вклада используют личные данны...</td>\n",
       "    </tr>\n",
       "    <tr>\n",
       "      <th>1</th>\n",
       "      <td>1</td>\n",
       "      <td>отличный банк пользуюсь по рекомендации друга ...</td>\n",
       "    </tr>\n",
       "    <tr>\n",
       "      <th>2</th>\n",
       "      <td>0</td>\n",
       "      <td>бардак в тинкофф банкеобслуживаюсь в банке дос...</td>\n",
       "    </tr>\n",
       "    <tr>\n",
       "      <th>3</th>\n",
       "      <td>0</td>\n",
       "      <td>навязывают кредитные карты  обманпримерно в  г...</td>\n",
       "    </tr>\n",
       "    <tr>\n",
       "      <th>4</th>\n",
       "      <td>0</td>\n",
       "      <td>закрытие вклада без заявления сегодня заканчив...</td>\n",
       "    </tr>\n",
       "    <tr>\n",
       "      <th>6</th>\n",
       "      <td>0</td>\n",
       "      <td>штраф за не продление полиса каско года я  шиш...</td>\n",
       "    </tr>\n",
       "    <tr>\n",
       "      <th>7</th>\n",
       "      <td>1</td>\n",
       "      <td>всё путём давно собирался написать отзыв  поль...</td>\n",
       "    </tr>\n",
       "    <tr>\n",
       "      <th>10</th>\n",
       "      <td>0</td>\n",
       "      <td>банк не для дистанционного обслуживаниярешил о...</td>\n",
       "    </tr>\n",
       "    <tr>\n",
       "      <th>11</th>\n",
       "      <td>0</td>\n",
       "      <td>премиальное обслуживаниедобрый день в москве в...</td>\n",
       "    </tr>\n",
       "    <tr>\n",
       "      <th>12</th>\n",
       "      <td>0</td>\n",
       "      <td>ежедненые звонки из банкаежедневно на мой номе...</td>\n",
       "    </tr>\n",
       "    <tr>\n",
       "      <th>13</th>\n",
       "      <td>0</td>\n",
       "      <td>в каждом офисе   свои правиласовершенно не пон...</td>\n",
       "    </tr>\n",
       "    <tr>\n",
       "      <th>14</th>\n",
       "      <td>0</td>\n",
       "      <td>бездействиедобрый день  пополняла карту через ...</td>\n",
       "    </tr>\n",
       "    <tr>\n",
       "      <th>15</th>\n",
       "      <td>0</td>\n",
       "      <td>программа \" русский стандарт\"формула жизни\"в и...</td>\n",
       "    </tr>\n",
       "    <tr>\n",
       "      <th>16</th>\n",
       "      <td>0</td>\n",
       "      <td>сервис отправки sms паролей временно недоступе...</td>\n",
       "    </tr>\n",
       "    <tr>\n",
       "      <th>17</th>\n",
       "      <td>0</td>\n",
       "      <td>холодный звонок от ткся клиент тинькофф банка ...</td>\n",
       "    </tr>\n",
       "    <tr>\n",
       "      <th>19</th>\n",
       "      <td>0</td>\n",
       "      <td>ответа на обращение можно ждать вечностьмной б...</td>\n",
       "    </tr>\n",
       "    <tr>\n",
       "      <th>20</th>\n",
       "      <td>0</td>\n",
       "      <td>штраф за неправильный полис каско был заключен...</td>\n",
       "    </tr>\n",
       "    <tr>\n",
       "      <th>21</th>\n",
       "      <td>1</td>\n",
       "      <td>интернет банкдень добрый   недавно стал облада...</td>\n",
       "    </tr>\n",
       "    <tr>\n",
       "      <th>23</th>\n",
       "      <td>0</td>\n",
       "      <td>поддержка = 0  а главное \"штанишки поддержать\"...</td>\n",
       "    </tr>\n",
       "    <tr>\n",
       "      <th>24</th>\n",
       "      <td>0</td>\n",
       "      <td>оботказе от страховкимежду мной и  оао «восточ...</td>\n",
       "    </tr>\n",
       "    <tr>\n",
       "      <th>25</th>\n",
       "      <td>0</td>\n",
       "      <td>после окончания вклада используют личные данны...</td>\n",
       "    </tr>\n",
       "    <tr>\n",
       "      <th>26</th>\n",
       "      <td>1</td>\n",
       "      <td>отличный банк пользуюсь по рекомендации друга ...</td>\n",
       "    </tr>\n",
       "    <tr>\n",
       "      <th>27</th>\n",
       "      <td>0</td>\n",
       "      <td>бардак в тинкофф банкеобслуживаюсь в банке дос...</td>\n",
       "    </tr>\n",
       "    <tr>\n",
       "      <th>28</th>\n",
       "      <td>0</td>\n",
       "      <td>навязывают кредитные карты  обманпримерно в  г...</td>\n",
       "    </tr>\n",
       "    <tr>\n",
       "      <th>29</th>\n",
       "      <td>0</td>\n",
       "      <td>закрытие вклада без заявления сегодня заканчив...</td>\n",
       "    </tr>\n",
       "    <tr>\n",
       "      <th>31</th>\n",
       "      <td>0</td>\n",
       "      <td>штраф за не продление полиса каско года я  шиш...</td>\n",
       "    </tr>\n",
       "    <tr>\n",
       "      <th>32</th>\n",
       "      <td>1</td>\n",
       "      <td>всё путём давно собирался написать отзыв  поль...</td>\n",
       "    </tr>\n",
       "    <tr>\n",
       "      <th>35</th>\n",
       "      <td>0</td>\n",
       "      <td>банк не для дистанционного обслуживаниярешил о...</td>\n",
       "    </tr>\n",
       "    <tr>\n",
       "      <th>36</th>\n",
       "      <td>0</td>\n",
       "      <td>премиальное обслуживаниедобрый день в москве в...</td>\n",
       "    </tr>\n",
       "    <tr>\n",
       "      <th>37</th>\n",
       "      <td>0</td>\n",
       "      <td>ежедненые звонки из банкаежедневно на мой номе...</td>\n",
       "    </tr>\n",
       "    <tr>\n",
       "      <th>...</th>\n",
       "      <td>...</td>\n",
       "      <td>...</td>\n",
       "    </tr>\n",
       "    <tr>\n",
       "      <th>6168</th>\n",
       "      <td>1</td>\n",
       "      <td>оперативно разобрались в ситуацииклиент банка ...</td>\n",
       "    </tr>\n",
       "    <tr>\n",
       "      <th>6170</th>\n",
       "      <td>0</td>\n",
       "      <td>сбербанк всегда рядом  но толку от него никако...</td>\n",
       "    </tr>\n",
       "    <tr>\n",
       "      <th>6178</th>\n",
       "      <td>1</td>\n",
       "      <td>невыполнение банком условий акциидобрый день д...</td>\n",
       "    </tr>\n",
       "    <tr>\n",
       "      <th>6179</th>\n",
       "      <td>0</td>\n",
       "      <td>пропали деньги со счётаго января я сделала три...</td>\n",
       "    </tr>\n",
       "    <tr>\n",
       "      <th>6181</th>\n",
       "      <td>0</td>\n",
       "      <td>неклиентоориентированный банкпо моему оценочно...</td>\n",
       "    </tr>\n",
       "    <tr>\n",
       "      <th>6183</th>\n",
       "      <td>1</td>\n",
       "      <td>положительный отзывдополнительный офис«станисл...</td>\n",
       "    </tr>\n",
       "    <tr>\n",
       "      <th>6184</th>\n",
       "      <td>0</td>\n",
       "      <td>не берите потребкредит у промсвязьбанканикому ...</td>\n",
       "    </tr>\n",
       "    <tr>\n",
       "      <th>6185</th>\n",
       "      <td>1</td>\n",
       "      <td>спасибо за профессионализм и внимание к клиент...</td>\n",
       "    </tr>\n",
       "    <tr>\n",
       "      <th>6186</th>\n",
       "      <td>0</td>\n",
       "      <td>не возвращают деньгиздравствуйте  зовут сергей...</td>\n",
       "    </tr>\n",
       "    <tr>\n",
       "      <th>6189</th>\n",
       "      <td>0</td>\n",
       "      <td>повышение ставки по кддобрый день  обращаюсь к...</td>\n",
       "    </tr>\n",
       "    <tr>\n",
       "      <th>6190</th>\n",
       "      <td>1</td>\n",
       "      <td>как я за кэшбэком ходилдействующие лица банк –...</td>\n",
       "    </tr>\n",
       "    <tr>\n",
       "      <th>6192</th>\n",
       "      <td>1</td>\n",
       "      <td>рад  что меня познакомили с банком агроросначн...</td>\n",
       "    </tr>\n",
       "    <tr>\n",
       "      <th>6194</th>\n",
       "      <td>0</td>\n",
       "      <td>банк вынуждает подключать платную услугу и еха...</td>\n",
       "    </tr>\n",
       "    <tr>\n",
       "      <th>6195</th>\n",
       "      <td>0</td>\n",
       "      <td>отвратительный интернет банк для ип у банка по...</td>\n",
       "    </tr>\n",
       "    <tr>\n",
       "      <th>6198</th>\n",
       "      <td>0</td>\n",
       "      <td>банк не дает закладнуюоформили в этом банке в ...</td>\n",
       "    </tr>\n",
       "    <tr>\n",
       "      <th>6199</th>\n",
       "      <td>0</td>\n",
       "      <td>первое знакомство с банком \"каждого дня\"я явля...</td>\n",
       "    </tr>\n",
       "    <tr>\n",
       "      <th>6200</th>\n",
       "      <td>1</td>\n",
       "      <td>рекомендацииа я бы порекомендовала газпромбанк...</td>\n",
       "    </tr>\n",
       "    <tr>\n",
       "      <th>6201</th>\n",
       "      <td>1</td>\n",
       "      <td>не жалею о выборев году устроилась на работу  ...</td>\n",
       "    </tr>\n",
       "    <tr>\n",
       "      <th>6203</th>\n",
       "      <td>0</td>\n",
       "      <td>сбой при получении кредитачерез сбербанк онлай...</td>\n",
       "    </tr>\n",
       "    <tr>\n",
       "      <th>6204</th>\n",
       "      <td>1</td>\n",
       "      <td>просьба помочь в ситуацииуважаемые руководител...</td>\n",
       "    </tr>\n",
       "    <tr>\n",
       "      <th>6205</th>\n",
       "      <td>0</td>\n",
       "      <td>комиссия за обслуживаниеоформлена дебетовая ка...</td>\n",
       "    </tr>\n",
       "    <tr>\n",
       "      <th>6207</th>\n",
       "      <td>1</td>\n",
       "      <td>отзыв о сотрудникедобрый день хочу поблагодари...</td>\n",
       "    </tr>\n",
       "    <tr>\n",
       "      <th>6210</th>\n",
       "      <td>0</td>\n",
       "      <td>государство списало деньги с кредитной картыдо...</td>\n",
       "    </tr>\n",
       "    <tr>\n",
       "      <th>6212</th>\n",
       "      <td>0</td>\n",
       "      <td>мтс уже четвертый раз заставляет меня нервнича...</td>\n",
       "    </tr>\n",
       "    <tr>\n",
       "      <th>6214</th>\n",
       "      <td>1</td>\n",
       "      <td>благодарю  банк естественно  мы сомневаемся в ...</td>\n",
       "    </tr>\n",
       "    <tr>\n",
       "      <th>6215</th>\n",
       "      <td>0</td>\n",
       "      <td>банк меня игнорирует оставил заявку онлайн на ...</td>\n",
       "    </tr>\n",
       "    <tr>\n",
       "      <th>6216</th>\n",
       "      <td>1</td>\n",
       "      <td>доставка дебетовой карты  или кто? где? когда?...</td>\n",
       "    </tr>\n",
       "    <tr>\n",
       "      <th>6217</th>\n",
       "      <td>0</td>\n",
       "      <td>платеж на уфк   отказ по фзнаша фирма проиграл...</td>\n",
       "    </tr>\n",
       "    <tr>\n",
       "      <th>6218</th>\n",
       "      <td>0</td>\n",
       "      <td>вот тебе и пропустила платёжтак же брала креди...</td>\n",
       "    </tr>\n",
       "    <tr>\n",
       "      <th>6222</th>\n",
       "      <td>1</td>\n",
       "      <td>лояльное и быстрое рассмотрение обращениядобро...</td>\n",
       "    </tr>\n",
       "  </tbody>\n",
       "</table>\n",
       "<p>4776 rows × 2 columns</p>\n",
       "</div>"
      ],
      "text/plain": [
       "      rating                                           all_text\n",
       "0          0  после окончания вклада используют личные данны...\n",
       "1          1  отличный банк пользуюсь по рекомендации друга ...\n",
       "2          0  бардак в тинкофф банкеобслуживаюсь в банке дос...\n",
       "3          0  навязывают кредитные карты  обманпримерно в  г...\n",
       "4          0  закрытие вклада без заявления сегодня заканчив...\n",
       "6          0  штраф за не продление полиса каско года я  шиш...\n",
       "7          1  всё путём давно собирался написать отзыв  поль...\n",
       "10         0  банк не для дистанционного обслуживаниярешил о...\n",
       "11         0  премиальное обслуживаниедобрый день в москве в...\n",
       "12         0  ежедненые звонки из банкаежедневно на мой номе...\n",
       "13         0  в каждом офисе   свои правиласовершенно не пон...\n",
       "14         0  бездействиедобрый день  пополняла карту через ...\n",
       "15         0  программа \" русский стандарт\"формула жизни\"в и...\n",
       "16         0  сервис отправки sms паролей временно недоступе...\n",
       "17         0  холодный звонок от ткся клиент тинькофф банка ...\n",
       "19         0  ответа на обращение можно ждать вечностьмной б...\n",
       "20         0  штраф за неправильный полис каско был заключен...\n",
       "21         1  интернет банкдень добрый   недавно стал облада...\n",
       "23         0  поддержка = 0  а главное \"штанишки поддержать\"...\n",
       "24         0  оботказе от страховкимежду мной и  оао «восточ...\n",
       "25         0  после окончания вклада используют личные данны...\n",
       "26         1  отличный банк пользуюсь по рекомендации друга ...\n",
       "27         0  бардак в тинкофф банкеобслуживаюсь в банке дос...\n",
       "28         0  навязывают кредитные карты  обманпримерно в  г...\n",
       "29         0  закрытие вклада без заявления сегодня заканчив...\n",
       "31         0  штраф за не продление полиса каско года я  шиш...\n",
       "32         1  всё путём давно собирался написать отзыв  поль...\n",
       "35         0  банк не для дистанционного обслуживаниярешил о...\n",
       "36         0  премиальное обслуживаниедобрый день в москве в...\n",
       "37         0  ежедненые звонки из банкаежедневно на мой номе...\n",
       "...      ...                                                ...\n",
       "6168       1  оперативно разобрались в ситуацииклиент банка ...\n",
       "6170       0  сбербанк всегда рядом  но толку от него никако...\n",
       "6178       1  невыполнение банком условий акциидобрый день д...\n",
       "6179       0  пропали деньги со счётаго января я сделала три...\n",
       "6181       0  неклиентоориентированный банкпо моему оценочно...\n",
       "6183       1  положительный отзывдополнительный офис«станисл...\n",
       "6184       0  не берите потребкредит у промсвязьбанканикому ...\n",
       "6185       1  спасибо за профессионализм и внимание к клиент...\n",
       "6186       0  не возвращают деньгиздравствуйте  зовут сергей...\n",
       "6189       0  повышение ставки по кддобрый день  обращаюсь к...\n",
       "6190       1  как я за кэшбэком ходилдействующие лица банк –...\n",
       "6192       1  рад  что меня познакомили с банком агроросначн...\n",
       "6194       0  банк вынуждает подключать платную услугу и еха...\n",
       "6195       0  отвратительный интернет банк для ип у банка по...\n",
       "6198       0  банк не дает закладнуюоформили в этом банке в ...\n",
       "6199       0  первое знакомство с банком \"каждого дня\"я явля...\n",
       "6200       1  рекомендацииа я бы порекомендовала газпромбанк...\n",
       "6201       1  не жалею о выборев году устроилась на работу  ...\n",
       "6203       0  сбой при получении кредитачерез сбербанк онлай...\n",
       "6204       1  просьба помочь в ситуацииуважаемые руководител...\n",
       "6205       0  комиссия за обслуживаниеоформлена дебетовая ка...\n",
       "6207       1  отзыв о сотрудникедобрый день хочу поблагодари...\n",
       "6210       0  государство списало деньги с кредитной картыдо...\n",
       "6212       0  мтс уже четвертый раз заставляет меня нервнича...\n",
       "6214       1  благодарю  банк естественно  мы сомневаемся в ...\n",
       "6215       0  банк меня игнорирует оставил заявку онлайн на ...\n",
       "6216       1  доставка дебетовой карты  или кто? где? когда?...\n",
       "6217       0  платеж на уфк   отказ по фзнаша фирма проиграл...\n",
       "6218       0  вот тебе и пропустила платёжтак же брала креди...\n",
       "6222       1  лояльное и быстрое рассмотрение обращениядобро...\n",
       "\n",
       "[4776 rows x 2 columns]"
      ]
     },
     "execution_count": 55,
     "metadata": {},
     "output_type": "execute_result"
    }
   ],
   "source": [
    "data"
   ]
  },
  {
   "cell_type": "code",
   "execution_count": null,
   "metadata": {
    "collapsed": true
   },
   "outputs": [],
   "source": []
  }
 ],
 "metadata": {
  "kernelspec": {
   "display_name": "Python 3",
   "language": "python",
   "name": "python3"
  },
  "language_info": {
   "codemirror_mode": {
    "name": "ipython",
    "version": 3
   },
   "file_extension": ".py",
   "mimetype": "text/x-python",
   "name": "python",
   "nbconvert_exporter": "python",
   "pygments_lexer": "ipython3",
   "version": "3.6.3"
  }
 },
 "nbformat": 4,
 "nbformat_minor": 2
}
