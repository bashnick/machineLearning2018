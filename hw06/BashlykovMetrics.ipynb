{
 "cells": [
  {
   "cell_type": "code",
   "execution_count": 154,
   "metadata": {
    "collapsed": true
   },
   "outputs": [],
   "source": [
    "import sklearn.metrics\n",
    "import numpy as np\n",
    "from sklearn.linear_model import LogisticRegression\n",
    "from sklearn.datasets import load_breast_cancer\n",
    "from sklearn.model_selection import cross_val_score\n",
    "from sklearn.model_selection import GridSearchCV\n",
    "from sklearn.model_selection import RandomizedSearchCV"
   ]
  },
  {
   "cell_type": "markdown",
   "metadata": {},
   "source": [
    "#### создание my scorer:"
   ]
  },
  {
   "cell_type": "code",
   "execution_count": 155,
   "metadata": {},
   "outputs": [],
   "source": [
    "def my_recall(target, pred, alpha = 0.5):\n",
    "    treshhold_probability = np.percentile(pred, alpha*100)\n",
    "    pred[pred[:,1]>treshhold_probability,1] = 1\n",
    "    pred[pred[:,1]<=treshhold_probability,1] = 0    \n",
    "    return np.sum(pred[:,1]*target)/np.sum(target == 1)"
   ]
  },
  {
   "cell_type": "markdown",
   "metadata": {},
   "source": [
    "#### обучение модели"
   ]
  },
  {
   "cell_type": "code",
   "execution_count": 156,
   "metadata": {},
   "outputs": [],
   "source": [
    "cancer = load_breast_cancer()\n",
    "pred = LogisticRegression().fit(cancer.data, cancer.target).predict(cancer.data)"
   ]
  },
  {
   "cell_type": "markdown",
   "metadata": {},
   "source": [
    "#### валидация модели"
   ]
  },
  {
   "cell_type": "code",
   "execution_count": 157,
   "metadata": {},
   "outputs": [
    {
     "data": {
      "text/plain": [
       "0.96638655462184886"
      ]
     },
     "execution_count": 157,
     "metadata": {},
     "output_type": "execute_result"
    }
   ],
   "source": [
    "cross_val_score(LogisticRegression(), cancer.data, cancer.target, cv=3, scoring=sklearn.metrics.make_scorer(my_recall, greater_is_better=True, needs_proba=True)).mean()"
   ]
  },
  {
   "cell_type": "code",
   "execution_count": 161,
   "metadata": {
    "collapsed": true
   },
   "outputs": [],
   "source": [
    "#### использование GridSearchCV и RandomizedSearchCV для поиска наилучших параметров"
   ]
  },
  {
   "cell_type": "code",
   "execution_count": 158,
   "metadata": {},
   "outputs": [],
   "source": [
    "params = {\n",
    "    'penalty': ['l2', 'l1'],\n",
    "    'C': [0.1, 0.5, 1, 5, 10],\n",
    "    'fit_intercept': [True, False],\n",
    "    'max_iter': [50, 100, 120, 150]\n",
    "}\n",
    "model_1 = GridSearchCV(LogisticRegression(), params, scoring=sklearn.metrics.make_scorer(my_recall, greater_is_better=True, needs_proba=True))\n",
    "model_2 = RandomizedSearchCV(LogisticRegression(), params, scoring=sklearn.metrics.make_scorer(my_recall, greater_is_better=True, needs_proba=True))"
   ]
  },
  {
   "cell_type": "markdown",
   "metadata": {},
   "source": [
    "#### кросс-валидация модели"
   ]
  },
  {
   "cell_type": "code",
   "execution_count": 159,
   "metadata": {},
   "outputs": [
    {
     "name": "stdout",
     "output_type": "stream",
     "text": [
      "0.966386554622\n",
      "0.966386554622\n"
     ]
    }
   ],
   "source": [
    "print (cross_val_score(model_1, cancer.data, cancer.target, cv=3, scoring=sklearn.metrics.make_scorer(my_recall, greater_is_better=True, needs_proba=True)).mean())\n",
    "print (cross_val_score(model_2, cancer.data, cancer.target, cv=3, scoring=sklearn.metrics.make_scorer(my_recall, greater_is_better=True, needs_proba=True)).mean())"
   ]
  },
  {
   "cell_type": "markdown",
   "metadata": {},
   "source": [
    "#### кросс-валидацяи модели с метрикой accuracy"
   ]
  },
  {
   "cell_type": "code",
   "execution_count": 160,
   "metadata": {},
   "outputs": [
    {
     "name": "stdout",
     "output_type": "stream",
     "text": [
      "0.952529471828\n",
      "0.952538754293\n"
     ]
    }
   ],
   "source": [
    "print (cross_val_score(model_1, cancer.data, cancer.target, cv=3, scoring='accuracy').mean())\n",
    "print (cross_val_score(model_2, cancer.data, cancer.target, cv=3, scoring='accuracy').mean())"
   ]
  },
  {
   "cell_type": "code",
   "execution_count": null,
   "metadata": {
    "collapsed": true
   },
   "outputs": [],
   "source": []
  }
 ],
 "metadata": {
  "kernelspec": {
   "display_name": "Python 3",
   "language": "python",
   "name": "python3"
  },
  "language_info": {
   "codemirror_mode": {
    "name": "ipython",
    "version": 3
   },
   "file_extension": ".py",
   "mimetype": "text/x-python",
   "name": "python",
   "nbconvert_exporter": "python",
   "pygments_lexer": "ipython3",
   "version": "3.6.3"
  }
 },
 "nbformat": 4,
 "nbformat_minor": 2
}
