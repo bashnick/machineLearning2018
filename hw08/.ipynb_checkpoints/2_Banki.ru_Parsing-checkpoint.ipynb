{
 "cells": [
  {
   "cell_type": "code",
   "execution_count": 247,
   "metadata": {
    "collapsed": true,
    "scrolled": false
   },
   "outputs": [],
   "source": [
    "import requests\n",
    "import re\n",
    "import pandas as pd\n",
    "from string import digits\n",
    "from bs4 import BeautifulSoup"
   ]
  },
  {
   "cell_type": "code",
   "execution_count": 248,
   "metadata": {
    "collapsed": true,
    "scrolled": false
   },
   "outputs": [],
   "source": [
    "url = \"http://www.banki.ru/services/responses/list/\"\n",
    "response = requests.get(url)\n",
    "i = 1\n",
    "soup = BeautifulSoup(response.text, \"html5lib\")"
   ]
  },
  {
   "cell_type": "code",
   "execution_count": 249,
   "metadata": {
    "collapsed": true,
    "scrolled": false
   },
   "outputs": [],
   "source": [
    "reviews = soup.find_all(\"article\", attrs={\"class\": \"responses__item\"})\n",
    "df = pd.DataFrame(columns = ('date', 'bank', 'title', 'rating', 'text'), index = [0])"
   ]
  },
  {
   "cell_type": "markdown",
   "metadata": {},
   "source": [
    "в цикле переходим между страницами, на каждой странице проверяем каждый отзыв, при возможности считываем полный отзыв по ссылке. оцищаем от пунктуации и лишних пробелов. пишем все в DataFrame"
   ]
  },
  {
   "cell_type": "code",
   "execution_count": 250,
   "metadata": {},
   "outputs": [
    {
     "name": "stdout",
     "output_type": "stream",
     "text": [
      "http://www.banki.ru/services/responses/list/?page=2\n",
      "http://www.banki.ru/services/responses/list/?page=3\n",
      "http://www.banki.ru/services/responses/list/?page=4\n",
      "http://www.banki.ru/services/responses/list/?page=5\n",
      "http://www.banki.ru/services/responses/list/?page=6\n",
      "http://www.banki.ru/services/responses/list/?page=7\n",
      "http://www.banki.ru/services/responses/list/?page=8\n",
      "http://www.banki.ru/services/responses/list/?page=9\n",
      "http://www.banki.ru/services/responses/list/?page=10\n",
      "http://www.banki.ru/services/responses/list/?page=11\n",
      "http://www.banki.ru/services/responses/list/?page=12\n",
      "http://www.banki.ru/services/responses/list/?page=13\n",
      "http://www.banki.ru/services/responses/list/?page=14\n",
      "http://www.banki.ru/services/responses/list/?page=15\n",
      "http://www.banki.ru/services/responses/list/?page=16\n",
      "http://www.banki.ru/services/responses/list/?page=17\n",
      "http://www.banki.ru/services/responses/list/?page=18\n",
      "http://www.banki.ru/services/responses/list/?page=19\n",
      "http://www.banki.ru/services/responses/list/?page=20\n",
      "http://www.banki.ru/services/responses/list/?page=21\n",
      "http://www.banki.ru/services/responses/list/?page=22\n",
      "http://www.banki.ru/services/responses/list/?page=23\n",
      "http://www.banki.ru/services/responses/list/?page=24\n",
      "http://www.banki.ru/services/responses/list/?page=25\n",
      "http://www.banki.ru/services/responses/list/?page=26\n",
      "http://www.banki.ru/services/responses/list/?page=27\n",
      "http://www.banki.ru/services/responses/list/?page=28\n",
      "http://www.banki.ru/services/responses/list/?page=29\n",
      "http://www.banki.ru/services/responses/list/?page=30\n",
      "http://www.banki.ru/services/responses/list/?page=31\n",
      "http://www.banki.ru/services/responses/list/?page=32\n",
      "http://www.banki.ru/services/responses/list/?page=33\n",
      "http://www.banki.ru/services/responses/list/?page=34\n",
      "http://www.banki.ru/services/responses/list/?page=35\n",
      "http://www.banki.ru/services/responses/list/?page=36\n",
      "http://www.banki.ru/services/responses/list/?page=37\n",
      "http://www.banki.ru/services/responses/list/?page=38\n",
      "http://www.banki.ru/services/responses/list/?page=39\n",
      "http://www.banki.ru/services/responses/list/?page=40\n",
      "http://www.banki.ru/services/responses/list/?page=41\n",
      "http://www.banki.ru/services/responses/list/?page=42\n",
      "http://www.banki.ru/services/responses/list/?page=43\n",
      "http://www.banki.ru/services/responses/list/?page=44\n",
      "http://www.banki.ru/services/responses/list/?page=45\n",
      "http://www.banki.ru/services/responses/list/?page=46\n",
      "http://www.banki.ru/services/responses/list/?page=47\n",
      "http://www.banki.ru/services/responses/list/?page=48\n",
      "http://www.banki.ru/services/responses/list/?page=49\n",
      "http://www.banki.ru/services/responses/list/?page=50\n"
     ]
    }
   ],
   "source": [
    "while (response and i < 50) :\n",
    "    for review in reviews:\n",
    "    # дата\n",
    "        date = review.find(\"time\", \"display-inline-block\").text\n",
    "\n",
    "    # название банка\n",
    "        bank_name = review.find_all(\"a\", attrs={\"class\": \"responses__item__logo lazy-load\"})[0].get(\"title\")\n",
    "        bank_name = re.sub(' +',' ', bank_name)\n",
    "        bank_name = re.sub('[A-Za-z0-9]+\\s+', '', bank_name)\n",
    "\n",
    "    # заголовок\n",
    "        title = review.find_all(\"a\", attrs={\"class\": \"font-size-large font-bold\"})[0].text\n",
    "        title = re.sub(' +',' ', title)\n",
    "        title = re.sub('[A-Za-z0-9]+\\s+', '', title)    \n",
    "\n",
    "    # рейтинг\n",
    "        rating = review.find(\"div\", attrs={\"class\": \"responses__item__rating\"}).find(\"meta\")\n",
    "        if rating: rating = rating.get(\"content\")\n",
    "        else: rating = None\n",
    "\n",
    "    # полный текст отзыва\n",
    "        link = review.find(\"div\", attrs={\"responses__item__message\"})\n",
    "        if link is not None:\n",
    "            if (link.find(\"a\", href=True) is not None):\n",
    "                url1 = \"http://www.banki.ru\" + link.find(\"a\", href=True)['href']\n",
    "                text_page = requests.get(url1)\n",
    "                soup1 = BeautifulSoup(text_page.text, \"html5lib\")\n",
    "                text = soup1.find(\"div\", \"article-text response-page__text markup-inside-small markup-inside-small--bullet\")\n",
    "                if (text is not None): text = text.text \n",
    "                else: text = review.find(\"div\", \"responses__item__message\").text\n",
    "            else: text = review.find(\"div\", \"responses__item__message\").text \n",
    "        else: text = review.find(\"div\", \"responses__item__message\").text\n",
    "        text = re.sub(' +',' ', text)\n",
    "        text = re.sub('[A-Za-z0-9]+\\s+', '', text)\n",
    "        remove_digits = str.maketrans('', '', digits)\n",
    "        text = text.translate(remove_digits).lstrip().rstrip()\n",
    "\n",
    "    # запись в DataFrame\n",
    "        df = df.append({\n",
    "            'date': date,\n",
    "            'bank': bank_name,\n",
    "            'title': title,\n",
    "            'rating': rating,\n",
    "            'text': text[]\n",
    "        }, ignore_index=True)\n",
    "    \n",
    "    # листаем по страницам\n",
    "    i+=1\n",
    "    url2 = url+\"?page=\"+str(i)\n",
    "    response = requests.get(url2)\n",
    "    soup = BeautifulSoup(response.text, \"html5lib\")\n",
    "    reviews = soup.find_all(\"article\", attrs={\"class\": \"responses__item\"})\n",
    "    print (url2)"
   ]
  },
  {
   "cell_type": "code",
   "execution_count": 251,
   "metadata": {
    "collapsed": true
   },
   "outputs": [],
   "source": [
    "df[1:].to_csv('data.csv')"
   ]
  },
  {
   "cell_type": "code",
   "execution_count": 229,
   "metadata": {},
   "outputs": [
    {
     "data": {
      "text/html": [
       "<div>\n",
       "<style>\n",
       "    .dataframe thead tr:only-child th {\n",
       "        text-align: right;\n",
       "    }\n",
       "\n",
       "    .dataframe thead th {\n",
       "        text-align: left;\n",
       "    }\n",
       "\n",
       "    .dataframe tbody tr th {\n",
       "        vertical-align: top;\n",
       "    }\n",
       "</style>\n",
       "<table border=\"1\" class=\"dataframe\">\n",
       "  <thead>\n",
       "    <tr style=\"text-align: right;\">\n",
       "      <th></th>\n",
       "      <th>date</th>\n",
       "      <th>bank</th>\n",
       "      <th>title</th>\n",
       "      <th>rating</th>\n",
       "      <th>text</th>\n",
       "    </tr>\n",
       "  </thead>\n",
       "  <tbody>\n",
       "  </tbody>\n",
       "</table>\n",
       "</div>"
      ],
      "text/plain": [
       "Empty DataFrame\n",
       "Columns: [date, bank, title, rating, text]\n",
       "Index: []"
      ]
     },
     "execution_count": 229,
     "metadata": {},
     "output_type": "execute_result"
    }
   ],
   "source": [
    "df.iloc[0:0]"
   ]
  },
  {
   "cell_type": "code",
   "execution_count": null,
   "metadata": {
    "collapsed": true
   },
   "outputs": [],
   "source": []
  }
 ],
 "metadata": {
  "kernelspec": {
   "display_name": "Python 3",
   "language": "python",
   "name": "python3"
  },
  "language_info": {
   "codemirror_mode": {
    "name": "ipython",
    "version": 3
   },
   "file_extension": ".py",
   "mimetype": "text/x-python",
   "name": "python",
   "nbconvert_exporter": "python",
   "pygments_lexer": "ipython3",
   "version": "3.6.3"
  }
 },
 "nbformat": 4,
 "nbformat_minor": 2
}
