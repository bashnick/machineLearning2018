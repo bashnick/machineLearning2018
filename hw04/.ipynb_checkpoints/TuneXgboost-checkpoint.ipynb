{
 "cells": [
  {
   "cell_type": "markdown",
   "metadata": {},
   "source": [
    "# Задание\n",
    "\n",
    "Попробуйте настроить параметры градиентного бустинга на этом датасете, и посмотрите, как изменение отдельных параметров влияет на результат.\n",
    "\n",
    "#### Конечная цель - сказать значение параметров xgb, при которых будет самое хорошее качество на кроссвалидации"
   ]
  },
  {
   "cell_type": "code",
   "execution_count": 1,
   "metadata": {},
   "outputs": [
    {
     "name": "stderr",
     "output_type": "stream",
     "text": [
      "/usr/local/lib/python2.7/dist-packages/sklearn/cross_validation.py:41: DeprecationWarning: This module was deprecated in version 0.18 in favor of the model_selection module into which all the refactored classes and functions are moved. Also note that the interface of the new CV iterators are different from that of this module. This module will be removed in 0.20.\n",
      "  \"This module will be removed in 0.20.\", DeprecationWarning)\n"
     ]
    }
   ],
   "source": [
    "from sklearn.model_selection import cross_val_score\n",
    "import xgboost as xgb\n",
    "import pandas\n",
    "import numpy as np\n",
    "import signal\n",
    "\n",
    "bioresponce = pandas.read_csv('../seminar01/bioresponse.csv', header=0, sep=',')\n",
    "bioresponce_target = bioresponce.Activity.values\n",
    "bioresponce_data = bioresponce.iloc[:, 1:]\n",
    "\n",
    "def signal_handler(signum, frame):\n",
    "    raise Exception(\"Timed out!\")\n",
    "\n",
    "def estimate_params(params):\n",
    "    signal.signal(signal.SIGALRM, signal_handler)\n",
    "    signal.alarm(30)\n",
    "    estimator = xgb.XGBClassifier(**params)\n",
    "\n",
    "    try:\n",
    "        score = np.mean(cross_val_score(\n",
    "            estimator, bioresponce_data, bioresponce_target,\n",
    "            scoring = 'accuracy', cv = 3\n",
    "        ))\n",
    "    except Exception, msg:\n",
    "        score = None\n",
    "    \n",
    "    return score"
   ]
  },
  {
   "cell_type": "code",
   "execution_count": 2,
   "metadata": {},
   "outputs": [
    {
     "name": "stdout",
     "output_type": "stream",
     "text": [
      "0.791254356515\n"
     ]
    }
   ],
   "source": [
    "print estimate_params({\n",
    "    'learning_rate': 0.1, \n",
    "    'max_depth': 5, \n",
    "    'n_estimators': 100, \n",
    "    'min_child_weight': 3,\n",
    "    'seed': 42\n",
    "})"
   ]
  },
  {
   "cell_type": "code",
   "execution_count": 3,
   "metadata": {},
   "outputs": [
    {
     "name": "stdout",
     "output_type": "stream",
     "text": [
      "None\n"
     ]
    }
   ],
   "source": [
    "print estimate_params({\n",
    "    'learning_rate': 0.1, \n",
    "    'max_depth': 5, \n",
    "    'n_estimators': 100000, \n",
    "    'min_child_weight': 3,\n",
    "    'seed': 42\n",
    "})"
   ]
  },
  {
   "cell_type": "code",
   "execution_count": null,
   "metadata": {
    "collapsed": true
   },
   "outputs": [],
   "source": []
  }
 ],
 "metadata": {
  "anaconda-cloud": {},
  "kernelspec": {
   "display_name": "Python 3",
   "language": "python",
   "name": "python3"
  },
  "language_info": {
   "codemirror_mode": {
    "name": "ipython",
    "version": 3
   },
   "file_extension": ".py",
   "mimetype": "text/x-python",
   "name": "python",
   "nbconvert_exporter": "python",
   "pygments_lexer": "ipython3",
   "version": "3.6.3"
  }
 },
 "nbformat": 4,
 "nbformat_minor": 1
}
